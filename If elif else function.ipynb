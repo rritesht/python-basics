{
 "cells": [
  {
   "cell_type": "markdown",
   "metadata": {},
   "source": [
    "# If elif else function tasks"
   ]
  },
  {
   "cell_type": "markdown",
   "metadata": {},
   "source": [
    "#if elif else\n",
    "1 . Take 6 inputs from keyboard, Telgu , Hindi , English, Mathematics, \n",
    "Sceince, Social\n",
    "\n",
    "\n",
    "2. 100 marks each exam \n",
    "\n",
    "Grades\n",
    "\n",
    "500 -600   - A+\n",
    "\n",
    "400 - 500  - A\n",
    "\n",
    "300 - 400  - B\n",
    "\n",
    "Below 300  - Fail\n",
    "\n",
    "if marks <0 or Grater than 600 need to print \"Enter valid marks message\"\n",
    "\n",
    "Yo need to tell the marks ubtained by the student are even or odd."
   ]
  },
  {
   "cell_type": "code",
   "execution_count": null,
   "metadata": {},
   "outputs": [],
   "source": [
    "# we are taking inputs from student \n",
    "\n",
    "Telugu = int(input(\"Enter the marks in Telugu : \"))\n",
    "\n",
    "Hindi =  int(input(\"Enter the marks in Hindi : \"))\n",
    "\n",
    "English =  int(input(\"Enter the marks in English : \"))\n",
    "\n",
    "Maths =  int(input(\"Enter the marks in Maths : \"))\n",
    "\n",
    "Science =  int(input(\"Enter the marks in Sceince : \"))\n",
    "\n",
    "Social =  int(input(\"Enter the marks in Social : \"))\n",
    "\n",
    "# calculating the total marks \n",
    "total_Marks = Telugu  + Hindi  +English + Maths + Science + Social\n",
    "\n",
    "# Displaying total Marks after Taken all 6 inputs\n",
    "print(\"Total Marks : \", total_Marks)\n",
    "\n",
    "# Greading system condition\n",
    "if 0<=total_Marks<300:\n",
    "    print('so sorry you are failed!')\n",
    "elif 300<=total_Marks<400:\n",
    "    print('Congratulation you are getting B grade')\n",
    "elif 400<=total_Marks<500:\n",
    "    print('Congratulation you are getting A grade') \n",
    "elif 500<=total_Marks<=600:\n",
    "    print('Congratulation you are getting A+ grade' )\n",
    "else:\n",
    "    print('Enter valid marks')\n",
    "\n",
    "# Find the number sudent entered are odd or even    \n",
    "odd_even=total_Marks%2==0\n",
    "if odd_even:\n",
    "    print('the marks obtained by you is an even number')\n",
    "else:\n",
    "    print('the marks obtained by you is an odd number')  "
   ]
  },
  {
   "cell_type": "markdown",
   "metadata": {},
   "source": [
    "#In this program, \n",
    "#we check if the number is positive or\n",
    "#negative or zero and \n",
    "#display an appropriate message"
   ]
  },
  {
   "cell_type": "code",
   "execution_count": 6,
   "metadata": {},
   "outputs": [
    {
     "name": "stdout",
     "output_type": "stream",
     "text": [
      "enter your number  0\n",
      "Zero number\n"
     ]
    }
   ],
   "source": [
    "# we are taking input from user\n",
    "number=float(input('enter your number  '))\n",
    "# condition for positive,zero & nagative\n",
    "if number>0:\n",
    "    print('Positive number')\n",
    "elif number==0:\n",
    "    print('Zero number')\n",
    "else:\n",
    "    print('nagative number')\n"
   ]
  },
  {
   "cell_type": "markdown",
   "metadata": {},
   "source": [
    "### Python Nested if Example\n",
    "#In this program, we input a number check if the number is positive or negative or zero and display an appropriate message This time we use nested if\n",
    "\n",
    "\n"
   ]
  },
  {
   "cell_type": "code",
   "execution_count": 10,
   "metadata": {},
   "outputs": [
    {
     "name": "stdout",
     "output_type": "stream",
     "text": [
      "please enter your number0\n",
      "zero number\n"
     ]
    }
   ],
   "source": [
    "#we are taking input from users\n",
    "num=int(input('please enter your number'))\n",
    "\n",
    "if num>=0:\n",
    "    if num==0:\n",
    "        print('zero number')\n",
    "    else:\n",
    "        print('positive number')\n",
    "else:\n",
    "    print('navative number')"
   ]
  },
  {
   "cell_type": "code",
   "execution_count": 5,
   "metadata": {},
   "outputs": [
    {
     "name": "stdout",
     "output_type": "stream",
     "text": [
      "9999\n",
      "Four digit number\n"
     ]
    }
   ],
   "source": [
    "#we are checking multiple conditions using if..elif..else statement.\n",
    "\n",
    "\n",
    "num = int(input())\n",
    "if 9 < num <= 99:\n",
    "    print(\"Two digit number\")\n",
    "elif 99 < num <= 999:\n",
    "    print(\"Three digit number\")\n",
    "elif 999 < num <= 9999:\n",
    "    print(\"Four digit number\")\n",
    "else:\n",
    "    print(\"number is <= 9 or >= 9999\")"
   ]
  },
  {
   "cell_type": "code",
   "execution_count": null,
   "metadata": {},
   "outputs": [],
   "source": []
  },
  {
   "cell_type": "code",
   "execution_count": null,
   "metadata": {},
   "outputs": [],
   "source": []
  },
  {
   "cell_type": "code",
   "execution_count": null,
   "metadata": {},
   "outputs": [],
   "source": []
  },
  {
   "cell_type": "code",
   "execution_count": null,
   "metadata": {},
   "outputs": [],
   "source": []
  },
  {
   "cell_type": "code",
   "execution_count": null,
   "metadata": {},
   "outputs": [],
   "source": []
  }
 ],
 "metadata": {
  "kernelspec": {
   "display_name": "Python 3",
   "language": "python",
   "name": "python3"
  },
  "language_info": {
   "codemirror_mode": {
    "name": "ipython",
    "version": 3
   },
   "file_extension": ".py",
   "mimetype": "text/x-python",
   "name": "python",
   "nbconvert_exporter": "python",
   "pygments_lexer": "ipython3",
   "version": "3.7.3"
  }
 },
 "nbformat": 4,
 "nbformat_minor": 2
}
