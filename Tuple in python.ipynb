{
 "cells": [
  {
   "cell_type": "code",
   "execution_count": 28,
   "metadata": {},
   "outputs": [
    {
     "name": "stdout",
     "output_type": "stream",
     "text": [
      "(1, 2, 3, 45, [1, 1, 2, 3, 4, 'Ritesh'], (4, 6, 7), {1, 2, 3, 'Ritesh'}, {'ram': 'first', 'Syam': 'second'})\n"
     ]
    }
   ],
   "source": [
    "#Tuple can contain any data like dict,string,tuple,set etc..\n",
    "tup_1=(1,2,3,45,[1,1,2,3,4,'Ritesh'],(4,6,7),{1,2,3,'Ritesh'},{'ram':'first','Syam':'second'})\n",
    "type(tup_1)\n",
    "print(tup_1)"
   ]
  },
  {
   "cell_type": "code",
   "execution_count": 9,
   "metadata": {},
   "outputs": [
    {
     "ename": "AttributeError",
     "evalue": "'tuple' object has no attribute 'append'",
     "output_type": "error",
     "traceback": [
      "\u001b[1;31m---------------------------------------------------------------------------\u001b[0m",
      "\u001b[1;31mAttributeError\u001b[0m                            Traceback (most recent call last)",
      "\u001b[1;32m<ipython-input-9-79eb1455cbb7>\u001b[0m in \u001b[0;36m<module>\u001b[1;34m\u001b[0m\n\u001b[0;32m      1\u001b[0m \u001b[1;31m#append method using in tuple\u001b[0m\u001b[1;33m\u001b[0m\u001b[1;33m\u001b[0m\u001b[1;33m\u001b[0m\u001b[0m\n\u001b[1;32m----> 2\u001b[1;33m \u001b[0mtup_1\u001b[0m\u001b[1;33m.\u001b[0m\u001b[0mappend\u001b[0m\u001b[1;33m(\u001b[0m\u001b[1;33m[\u001b[0m\u001b[1;36m1\u001b[0m\u001b[1;33m,\u001b[0m\u001b[1;36m2\u001b[0m\u001b[1;33m,\u001b[0m\u001b[1;36m3\u001b[0m\u001b[1;33m]\u001b[0m\u001b[1;33m)\u001b[0m\u001b[1;33m\u001b[0m\u001b[1;33m\u001b[0m\u001b[0m\n\u001b[0m",
      "\u001b[1;31mAttributeError\u001b[0m: 'tuple' object has no attribute 'append'"
     ]
    }
   ],
   "source": [
    "#append method using in tuple\n",
    "tup_1.append([1,2,3])"
   ]
  },
  {
   "cell_type": "code",
   "execution_count": 18,
   "metadata": {},
   "outputs": [
    {
     "name": "stdout",
     "output_type": "stream",
     "text": [
      "1\n",
      "(1, 2, 3, 45, [1, 2, 3, 4, 'Ritesh'], (4, 6, 7), {1, 2, 3, 'Ritesh'}, {'ram': 'first', 'Syam': 'second'})\n",
      "(1, 2, 3, 45, [1, 2, 3, 4, 'Ritesh'])\n",
      "((4, 6, 7),)\n",
      "((4, 6, 7), {1, 2, 3, 'Ritesh'}, {'ram': 'first', 'Syam': 'second'})\n",
      "(1, 3, [1, 2, 3, 4, 'Ritesh'], {1, 2, 3, 'Ritesh'})\n",
      "(2, 3, 45, [1, 2, 3, 4, 'Ritesh'], (4, 6, 7), {1, 2, 3, 'Ritesh'})\n",
      "(2, 45, (4, 6, 7))\n"
     ]
    }
   ],
   "source": [
    "#indexing and slicing method using in tuple\n",
    "print(tup_1[0])\n",
    "print(tup_1[0:])\n",
    "print(tup_1[0:5])\n",
    "print(tup_1[-3:-2])\n",
    "print(tup_1[-3:])\n",
    "print(tup_1[0::2])\n",
    "print(tup_1[1:-1:1])\n",
    "print(tup_1[1:-1:2])"
   ]
  },
  {
   "cell_type": "code",
   "execution_count": 20,
   "metadata": {},
   "outputs": [
    {
     "ename": "TypeError",
     "evalue": "'tuple' object doesn't support item deletion",
     "output_type": "error",
     "traceback": [
      "\u001b[1;31m---------------------------------------------------------------------------\u001b[0m",
      "\u001b[1;31mTypeError\u001b[0m                                 Traceback (most recent call last)",
      "\u001b[1;32m<ipython-input-20-1d1c43b78b49>\u001b[0m in \u001b[0;36m<module>\u001b[1;34m\u001b[0m\n\u001b[0;32m      1\u001b[0m \u001b[1;31m#del function using in Tuple\u001b[0m\u001b[1;33m\u001b[0m\u001b[1;33m\u001b[0m\u001b[1;33m\u001b[0m\u001b[0m\n\u001b[1;32m----> 2\u001b[1;33m \u001b[1;32mdel\u001b[0m \u001b[0mtup_1\u001b[0m\u001b[1;33m[\u001b[0m\u001b[1;36m0\u001b[0m\u001b[1;33m]\u001b[0m\u001b[1;33m\u001b[0m\u001b[1;33m\u001b[0m\u001b[0m\n\u001b[0m",
      "\u001b[1;31mTypeError\u001b[0m: 'tuple' object doesn't support item deletion"
     ]
    }
   ],
   "source": [
    "#del function using in Tuple\n",
    "del tup_1[0] #----------->Tuple doesn't support del function"
   ]
  },
  {
   "cell_type": "code",
   "execution_count": 22,
   "metadata": {},
   "outputs": [
    {
     "name": "stdout",
     "output_type": "stream",
     "text": [
      "(1, 2, 3, 45, [1, 2, 3, 4, 'Ritesh'], (4, 6, 7), {1, 2, 3, 'Ritesh'}, {'ram': 'first', 'Syam': 'second'})\n"
     ]
    },
    {
     "ename": "AttributeError",
     "evalue": "'tuple' object has no attribute 'remove'",
     "output_type": "error",
     "traceback": [
      "\u001b[1;31m---------------------------------------------------------------------------\u001b[0m",
      "\u001b[1;31mAttributeError\u001b[0m                            Traceback (most recent call last)",
      "\u001b[1;32m<ipython-input-22-827a565a6a00>\u001b[0m in \u001b[0;36m<module>\u001b[1;34m\u001b[0m\n\u001b[0;32m      1\u001b[0m \u001b[1;31m#Remove method using in Tuple\u001b[0m\u001b[1;33m\u001b[0m\u001b[1;33m\u001b[0m\u001b[1;33m\u001b[0m\u001b[0m\n\u001b[0;32m      2\u001b[0m \u001b[0mprint\u001b[0m\u001b[1;33m(\u001b[0m\u001b[0mtup_1\u001b[0m\u001b[1;33m)\u001b[0m\u001b[1;33m\u001b[0m\u001b[1;33m\u001b[0m\u001b[0m\n\u001b[1;32m----> 3\u001b[1;33m \u001b[0mtup_1\u001b[0m\u001b[1;33m.\u001b[0m\u001b[0mremove\u001b[0m\u001b[1;33m(\u001b[0m\u001b[1;36m2\u001b[0m\u001b[1;33m)\u001b[0m\u001b[1;33m\u001b[0m\u001b[1;33m\u001b[0m\u001b[0m\n\u001b[0m",
      "\u001b[1;31mAttributeError\u001b[0m: 'tuple' object has no attribute 'remove'"
     ]
    }
   ],
   "source": [
    "#Remove method using in Tuple\n",
    "print(tup_1)\n",
    "tup_1.remove(2) #------------>Tuple doesn't support remove method."
   ]
  },
  {
   "cell_type": "code",
   "execution_count": 24,
   "metadata": {},
   "outputs": [
    {
     "name": "stdout",
     "output_type": "stream",
     "text": [
      "(1, 2, 3, 45, [1, 2, 3, 4, 'Ritesh'], (4, 6, 7), {1, 2, 3, 'Ritesh'}, {'ram': 'first', 'Syam': 'second'})\n"
     ]
    },
    {
     "ename": "AttributeError",
     "evalue": "'tuple' object has no attribute 'pop'",
     "output_type": "error",
     "traceback": [
      "\u001b[1;31m---------------------------------------------------------------------------\u001b[0m",
      "\u001b[1;31mAttributeError\u001b[0m                            Traceback (most recent call last)",
      "\u001b[1;32m<ipython-input-24-1aed0eed635e>\u001b[0m in \u001b[0;36m<module>\u001b[1;34m\u001b[0m\n\u001b[0;32m      1\u001b[0m \u001b[1;31m# pop method using in tuple\u001b[0m\u001b[1;33m\u001b[0m\u001b[1;33m\u001b[0m\u001b[1;33m\u001b[0m\u001b[0m\n\u001b[0;32m      2\u001b[0m \u001b[0mprint\u001b[0m\u001b[1;33m(\u001b[0m\u001b[0mtup_1\u001b[0m\u001b[1;33m)\u001b[0m\u001b[1;33m\u001b[0m\u001b[1;33m\u001b[0m\u001b[0m\n\u001b[1;32m----> 3\u001b[1;33m \u001b[0mprint\u001b[0m\u001b[1;33m(\u001b[0m\u001b[0mtup_1\u001b[0m\u001b[1;33m.\u001b[0m\u001b[0mpop\u001b[0m\u001b[1;33m(\u001b[0m\u001b[1;36m1\u001b[0m\u001b[1;33m)\u001b[0m\u001b[1;33m)\u001b[0m\u001b[1;33m\u001b[0m\u001b[1;33m\u001b[0m\u001b[0m\n\u001b[0m",
      "\u001b[1;31mAttributeError\u001b[0m: 'tuple' object has no attribute 'pop'"
     ]
    }
   ],
   "source": [
    "# pop method using in tuple\n",
    "print(tup_1)\n",
    "print(tup_1.pop(1)) #-------------->Tuple doesn't support pop method.\n"
   ]
  },
  {
   "cell_type": "code",
   "execution_count": 31,
   "metadata": {},
   "outputs": [
    {
     "name": "stdout",
     "output_type": "stream",
     "text": [
      "(1, 2, 3, 45, [1, 1, 2, 3, 4, 'Ritesh'], (4, 6, 7), {1, 2, 3, 'Ritesh'}, {'ram': 'first', 'Syam': 'second'})\n",
      "1\n",
      "2\n"
     ]
    }
   ],
   "source": [
    "# count element in the list\n",
    "print(tup_1)\n",
    "print(tup_1.count(1))\n",
    "print(tup_1[4].count(1))"
   ]
  },
  {
   "cell_type": "code",
   "execution_count": 33,
   "metadata": {},
   "outputs": [
    {
     "name": "stdout",
     "output_type": "stream",
     "text": [
      "(1, 2, 3, 45, [1, 1, 2, 3, 4, 'Ritesh'], (4, 6, 7), {1, 2, 3, 'Ritesh'}, {'ram': 'first', 'Syam': 'second'})\n",
      "8\n"
     ]
    }
   ],
   "source": [
    "#len function using in tuple\n",
    "print(tup_1)\n",
    "print(len(tup_1))"
   ]
  },
  {
   "cell_type": "code",
   "execution_count": 36,
   "metadata": {},
   "outputs": [
    {
     "ename": "SyntaxError",
     "evalue": "can't assign to operator (<ipython-input-36-e37a96ce8534>, line 3)",
     "output_type": "error",
     "traceback": [
      "\u001b[1;36m  File \u001b[1;32m\"<ipython-input-36-e37a96ce8534>\"\u001b[1;36m, line \u001b[1;32m3\u001b[0m\n\u001b[1;33m    tup-_1[1]=1,2,3\u001b[0m\n\u001b[1;37m                   ^\u001b[0m\n\u001b[1;31mSyntaxError\u001b[0m\u001b[1;31m:\u001b[0m can't assign to operator\n"
     ]
    }
   ],
   "source": [
    "# update element in the list\n",
    "print(tup_1)\n",
    "tup-_1[1]=1,2,3 #------------>update is not working in tuple."
   ]
  },
  {
   "cell_type": "code",
   "execution_count": 39,
   "metadata": {},
   "outputs": [
    {
     "name": "stdout",
     "output_type": "stream",
     "text": [
      "Ritesh\n",
      "Sohan\n",
      "Mohan\n"
     ]
    }
   ],
   "source": [
    "# unpaking data from tuple\n",
    "student=('Ritesh','Sohan','Mohan')\n",
    "a,b,c=student\n",
    "print(a)\n",
    "print(b)\n",
    "print(c)"
   ]
  },
  {
   "cell_type": "code",
   "execution_count": 46,
   "metadata": {},
   "outputs": [
    {
     "name": "stdout",
     "output_type": "stream",
     "text": [
      "(1, 2, 3, 45, [1, 2, 3, 4, 'Ritesh', 3, 3, 3], (4, 6, 7), {1, 2, 3, 'Ritesh'}, {'ram': 'first', 'Syam': 'second'})\n",
      "(1, 2, 3, 45, [1, 2, 3, 4, 'Ritesh', 3, 3, 3, 3], (4, 6, 7), {1, 2, 3, 'Ritesh'}, {'ram': 'first', 'Syam': 'second'})\n"
     ]
    }
   ],
   "source": [
    "# append list data inside tuple\n",
    "print(tup_1)\n",
    "tup_1[4].append(3)\n",
    "print(tup_1)\n"
   ]
  },
  {
   "cell_type": "code",
   "execution_count": 47,
   "metadata": {},
   "outputs": [
    {
     "name": "stdout",
     "output_type": "stream",
     "text": [
      "(1, 2, 3, 45, [2, 3, 4, 'Ritesh', 3, 3, 3, 3], (4, 6, 7), {1, 2, 3, 'Ritesh'}, {'ram': 'first', 'Syam': 'second'})\n"
     ]
    }
   ],
   "source": [
    "# del  list data inside tuple\n",
    "del tup_1[4][0]\n",
    "print(tup_1)"
   ]
  },
  {
   "cell_type": "code",
   "execution_count": null,
   "metadata": {},
   "outputs": [],
   "source": []
  },
  {
   "cell_type": "code",
   "execution_count": null,
   "metadata": {},
   "outputs": [],
   "source": []
  },
  {
   "cell_type": "code",
   "execution_count": null,
   "metadata": {},
   "outputs": [],
   "source": []
  },
  {
   "cell_type": "code",
   "execution_count": null,
   "metadata": {},
   "outputs": [],
   "source": []
  }
 ],
 "metadata": {
  "kernelspec": {
   "display_name": "Python 3",
   "language": "python",
   "name": "python3"
  },
  "language_info": {
   "codemirror_mode": {
    "name": "ipython",
    "version": 3
   },
   "file_extension": ".py",
   "mimetype": "text/x-python",
   "name": "python",
   "nbconvert_exporter": "python",
   "pygments_lexer": "ipython3",
   "version": "3.7.3"
  }
 },
 "nbformat": 4,
 "nbformat_minor": 2
}
