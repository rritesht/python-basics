{
 "cells": [
  {
   "cell_type": "markdown",
   "metadata": {},
   "source": [
    "# Creating  list-\n",
    "#A list can contain any Python type. Although it's not really common, a list can also contain a mix of Python types including strings, floats, booleans, etc."
   ]
  },
  {
   "cell_type": "code",
   "execution_count": 69,
   "metadata": {},
   "outputs": [
    {
     "name": "stdout",
     "output_type": "stream",
     "text": [
      "13\n",
      "[1, 2, 3, 4, 5, 6, (1, 2, 3, 45), {2, 3, 'Ritesh', 4, 12345}, {'one': 'Ritesh', 'age': 36}, 'rohit', True, False, 1.5, [1, 2, 3, 4]]\n",
      "1\n",
      "[1, 2, 3, 4, 5, 6, (1, 2, 3, 45), {2, 3, 'Ritesh', 4, 12345}, {'one': 'Ritesh', 'age': 36}, 'rohit', True, False, 1.5, [1, 2, 3, 4]]\n",
      "[6]\n",
      "[1, 2, 3, 4, 5, 6, (1, 2, 3, 45), {2, 3, 'Ritesh', 4, 12345}, {'one': 'Ritesh', 'age': 36}, 'rohit', True, False, 1.5]\n",
      "[{'one': 'Ritesh', 'age': 36}, 'rohit', True, False]\n",
      "[1, 3, 5, (1, 2, 3, 45), {'one': 'Ritesh', 'age': 36}, True, 1.5]\n",
      "5\n",
      "[1, 2, 3, 4, 5, 6, (1, 2, 3, 45), {2, 3, 'Ritesh', 4, 12345}, {'one': 'Ritesh', 'age': 36}, 'rohit', True, False, 1.5, [1, 2, 3, 4]]\n",
      "3\n",
      "Ritesh\n"
     ]
    }
   ],
   "source": [
    "\n",
    "list_1=[1,2,3,4,5,6,(1,2,3,45),{'Ritesh',12345,2,3,4},{'one':'Ritesh','age':36},'rohit',True,False,1.5]\n",
    "\n",
    "#using all function and mathod in list\n",
    "\n",
    "#len function  in list\n",
    "print(len(list_1))\n",
    "\n",
    "#append mathod using in list\n",
    "list_1.append([1,2,3,4])\n",
    "print(list_1)\n",
    "\n",
    "#indexing  & slicing mathod in list \n",
    "print(list_1[0])\n",
    "print(list_1[0:])\n",
    "print(list_1[5:6])\n",
    "print(list_1[0:-1])\n",
    "print(list_1[-6:-2])\n",
    "print(list_1[0:-1:2])\n",
    "print(list_1.index(6)) #------->its define the address of element \n",
    "print(list_1)\n",
    "print(list_1[6][2])\n",
    "print(list_1[8]['one'])"
   ]
  },
  {
   "cell_type": "code",
   "execution_count": 55,
   "metadata": {},
   "outputs": [
    {
     "name": "stdout",
     "output_type": "stream",
     "text": [
      "[10, 10, True, False, 1.5, [1, 2, 3, 4], [1, 2, 3, 4, 5, 6, 7, 8]]\n",
      "[10, True, False, 1.5, [1, 2, 3, 4], [1, 2, 3, 4, 5, 6, 7, 8]]\n",
      "[10, True, False, 1.5, [1, 2, 3, 4], [1, 2, 3, 4, 5, 6, 7, 8]]\n",
      "[True, False, 1.5, [1, 2, 3, 4], [1, 2, 3, 4, 5, 6, 7, 8]]\n"
     ]
    }
   ],
   "source": [
    "#del function in the list\n",
    "print(list_1)\n",
    "\n",
    "del list_1[1] #----------->in del we can del item using index\n",
    "print(list_1)\n",
    "\n",
    "#remove method using in list\n",
    "print(list_1)\n",
    "list_1.remove((10))#----------->hare we can remove element\n",
    "print(list_1)"
   ]
  },
  {
   "cell_type": "code",
   "execution_count": 23,
   "metadata": {},
   "outputs": [
    {
     "name": "stdout",
     "output_type": "stream",
     "text": [
      "[1, 6, {'one': 'Ritesh', 'age': 36}, 'rohit', True, False, 1.5, [1, 2, 3, 4]]\n",
      "{'one': 'Ritesh', 'age': 36}\n",
      "[1, 6, 'rohit', True, False, 1.5, [1, 2, 3, 4]]\n"
     ]
    }
   ],
   "source": [
    "#pop element in the list\n",
    "print(list_1)\n",
    "print(list_1.pop(2))#---------->pop method using index\n",
    "print(list_1)"
   ]
  },
  {
   "cell_type": "code",
   "execution_count": 50,
   "metadata": {},
   "outputs": [
    {
     "name": "stdout",
     "output_type": "stream",
     "text": [
      "[10, (1, 2, 3, 4, 5), 'rohit', True, False, 1.5, [1, 2, 3, 4], [1, 2, 3, 4, 5, 6, 7, 8]]\n",
      "[10, (1, 2, 3, 4, 5), 'rohit', True, False, 1.5, [1, 2, 3, 4], [1, 2, 3, 4, 5, 6, 7, 8]]\n",
      "[10, (1, 2, 3, 4, 5), 'rohit', True, False, 1.5, [1, 2, 3, 4], [1, 2, 3, 4, 5, 6, 7, 8]]\n",
      "[10, (1, 2, 3, 4, 5), 10, True, False, 1.5, [1, 2, 3, 4], [1, 2, 3, 4, 5, 6, 7, 8]]\n"
     ]
    }
   ],
   "source": [
    "# update element in the list\n",
    "print(list_1)\n",
    "list_1[1]=1,2,3,4,5\n",
    "print(list_1)\n",
    "list_1[0]=10\n",
    "print(list_1)\n",
    "list_1[2]=10\n",
    "print(list_1)"
   ]
  },
  {
   "cell_type": "code",
   "execution_count": 52,
   "metadata": {},
   "outputs": [
    {
     "name": "stdout",
     "output_type": "stream",
     "text": [
      "[10, (1, 2, 3, 4, 5), 10, True, False, 1.5, [1, 2, 3, 4], [1, 2, 3, 4, 5, 6, 7, 8]]\n"
     ]
    },
    {
     "data": {
      "text/plain": [
       "2"
      ]
     },
     "execution_count": 52,
     "metadata": {},
     "output_type": "execute_result"
    }
   ],
   "source": [
    "# count element in the list\n",
    "print(list_1)\n",
    "list_1.count(10)"
   ]
  },
  {
   "cell_type": "code",
   "execution_count": 4,
   "metadata": {},
   "outputs": [
    {
     "data": {
      "text/plain": [
       "list"
      ]
     },
     "execution_count": 4,
     "metadata": {},
     "output_type": "execute_result"
    }
   ],
   "source": [
    "#type function in the list\n",
    "type(list_1)\n",
    "\n"
   ]
  },
  {
   "cell_type": "code",
   "execution_count": 3,
   "metadata": {},
   "outputs": [
    {
     "data": {
      "text/plain": [
       "list"
      ]
     },
     "execution_count": 3,
     "metadata": {},
     "output_type": "execute_result"
    }
   ],
   "source": [
    "list_1=[1,2,3,4,5,6,(1,2,3,45),{'Ritesh',12345,2,3,4},{'one':'Ritesh','age':36},'rohit',True,False,1.5]\n"
   ]
  },
  {
   "cell_type": "code",
   "execution_count": 12,
   "metadata": {},
   "outputs": [
    {
     "name": "stdout",
     "output_type": "stream",
     "text": [
      "[1, 2, 3, 4, 5, 6, (1, 2, 3, 45), {2, 3, 4, 12345, 'Ritesh'}, {'one': 'Ritesh', 'age': 36}, 'rohit', True, False, 1.5, 'orange', 'banana', 'orange', 'banana', 'orange', 'banana']\n"
     ]
    }
   ],
   "source": [
    "# exdend method in the list\n",
    "list2=['orange','banana']\n",
    "list_1.extend(list2)\n",
    "print(list_1)"
   ]
  },
  {
   "cell_type": "code",
   "execution_count": 10,
   "metadata": {},
   "outputs": [
    {
     "data": {
      "text/plain": [
       "[4, 6, 8, 9, 10, 12, 13, 15]"
      ]
     },
     "execution_count": 10,
     "metadata": {},
     "output_type": "execute_result"
    }
   ],
   "source": [
    "# Sort method using in list\n",
    "list3=[4,6,8,9,12,15,13,10]#------------> it will sorting all the data\n",
    "list3.sort()\n",
    "list3"
   ]
  },
  {
   "cell_type": "code",
   "execution_count": 15,
   "metadata": {},
   "outputs": [
    {
     "name": "stdout",
     "output_type": "stream",
     "text": [
      "['orange', 'banana']\n"
     ]
    }
   ],
   "source": [
    "#copy method using in list\n",
    "new=list2.copy()\n",
    "print(new)"
   ]
  },
  {
   "cell_type": "code",
   "execution_count": null,
   "metadata": {},
   "outputs": [],
   "source": []
  },
  {
   "cell_type": "code",
   "execution_count": null,
   "metadata": {},
   "outputs": [],
   "source": []
  },
  {
   "cell_type": "code",
   "execution_count": null,
   "metadata": {},
   "outputs": [],
   "source": []
  },
  {
   "cell_type": "code",
   "execution_count": null,
   "metadata": {},
   "outputs": [],
   "source": []
  },
  {
   "cell_type": "code",
   "execution_count": null,
   "metadata": {},
   "outputs": [],
   "source": []
  },
  {
   "cell_type": "code",
   "execution_count": null,
   "metadata": {},
   "outputs": [],
   "source": []
  }
 ],
 "metadata": {
  "kernelspec": {
   "display_name": "Python 3",
   "language": "python",
   "name": "python3"
  }
 },
 "nbformat": 4,
 "nbformat_minor": 2
}
