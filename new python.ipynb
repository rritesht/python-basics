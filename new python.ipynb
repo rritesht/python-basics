{
 "cells": [
  {
   "cell_type": "markdown",
   "metadata": {},
   "source": [
    "# string formating "
   ]
  },
  {
   "cell_type": "code",
   "execution_count": 4,
   "metadata": {},
   "outputs": [
    {
     "name": "stdout",
     "output_type": "stream",
     "text": [
      "your name is Ritesh and your age is 36\n"
     ]
    }
   ],
   "source": [
    "name='Ritesh'\n",
    "age=36\n",
    "print(f'your name is {name} and your age is {age}')"
   ]
  },
  {
   "cell_type": "raw",
   "metadata": {},
   "source": [
    "ask user to give 3 numbers and you have to print average of this three numbers using string formating "
   ]
  },
  {
   "cell_type": "code",
   "execution_count": 7,
   "metadata": {},
   "outputs": [
    {
     "name": "stdout",
     "output_type": "stream",
     "text": [
      "pls enter your date of birth month and year comma separated:2,2,1990\n",
      "all three number average is 691\n"
     ]
    }
   ],
   "source": [
    "date,month,year=input('pls enter your date of birth month and year comma separated:').split(',')\n",
    "print(f'all three number average is {int(date)+int(month)+int(year)//3}')\n"
   ]
  },
  {
   "cell_type": "raw",
   "metadata": {},
   "source": [
    "string indexing "
   ]
  },
  {
   "cell_type": "code",
   "execution_count": 10,
   "metadata": {},
   "outputs": [
    {
     "name": "stdout",
     "output_type": "stream",
     "text": [
      "t\n",
      "t\n"
     ]
    }
   ],
   "source": [
    "language='python'\n",
    "# p=0=-6\n",
    "# y=1=-5\n",
    "# t=2=-4\n",
    "# h=3=-3\n",
    "# o=2=-2\n",
    "# n=1=-1\n",
    "#if we want to print t\n",
    "print(language[2])\n",
    "print(language[-4])\n"
   ]
  },
  {
   "cell_type": "raw",
   "metadata": {},
   "source": [
    "string slicing"
   ]
  },
  {
   "cell_type": "code",
   "execution_count": 13,
   "metadata": {},
   "outputs": [
    {
     "name": "stdout",
     "output_type": "stream",
     "text": [
      "py\n",
      "pyt\n"
     ]
    }
   ],
   "source": [
    "lang='python'\n",
    "#if we want to print multiple words like py\n",
    "print(lang[0:2])\n",
    "#if we want to print pyt\n",
    "print(lang[0:3])\n",
    "\n"
   ]
  },
  {
   "cell_type": "raw",
   "metadata": {},
   "source": [
    "step argument "
   ]
  },
  {
   "cell_type": "code",
   "execution_count": 15,
   "metadata": {},
   "outputs": [
    {
     "name": "stdout",
     "output_type": "stream",
     "text": [
      "Rites\n"
     ]
    }
   ],
   "source": [
    "name='Ritesh'\n",
    "print(name[0:5])"
   ]
  },
  {
   "cell_type": "code",
   "execution_count": 18,
   "metadata": {},
   "outputs": [
    {
     "name": "stdout",
     "output_type": "stream",
     "text": [
      "Rts\n"
     ]
    }
   ],
   "source": [
    "#if we want to print Rts\n",
    "print(name[0:6:2])#-----it will skip one step"
   ]
  },
  {
   "cell_type": "code",
   "execution_count": 40,
   "metadata": {},
   "outputs": [
    {
     "name": "stdout",
     "output_type": "stream",
     "text": [
      "hsetiR\n",
      "stR\n",
      "hsetiR\n"
     ]
    }
   ],
   "source": [
    "#if we want reverse of name than\n",
    "print(name[6::-1])\n",
    "print(name[4::-2])\n",
    "print(name[-1::-1])"
   ]
  },
  {
   "cell_type": "raw",
   "metadata": {},
   "source": [
    "ask user name and print back user name in reverse order."
   ]
  },
  {
   "cell_type": "code",
   "execution_count": 42,
   "metadata": {},
   "outputs": [
    {
     "name": "stdout",
     "output_type": "stream",
     "text": [
      "please enter your name Ritesh Tiwari\n",
      "your reverse name is irawiT hsetiR\n"
     ]
    }
   ],
   "source": [
    "user=input('please enter your name ')\n",
    "print(f'your reverse name is {user[-1::-1]}')"
   ]
  },
  {
   "cell_type": "raw",
   "metadata": {},
   "source": [
    "String method"
   ]
  },
  {
   "cell_type": "code",
   "execution_count": 43,
   "metadata": {},
   "outputs": [
    {
     "name": "stdout",
     "output_type": "stream",
     "text": [
      "5\n"
     ]
    }
   ],
   "source": [
    "#len function\n",
    "name='Rohan'\n",
    "print(len(name))"
   ]
  },
  {
   "cell_type": "code",
   "execution_count": 46,
   "metadata": {},
   "outputs": [
    {
     "name": "stdout",
     "output_type": "stream",
     "text": [
      "rohan\n"
     ]
    }
   ],
   "source": [
    "#lower method\n",
    "print(name.lower())"
   ]
  },
  {
   "cell_type": "code",
   "execution_count": 47,
   "metadata": {},
   "outputs": [
    {
     "name": "stdout",
     "output_type": "stream",
     "text": [
      "ROHAN\n"
     ]
    }
   ],
   "source": [
    "#upper method\n",
    "print(name.upper())"
   ]
  },
  {
   "cell_type": "code",
   "execution_count": 48,
   "metadata": {},
   "outputs": [
    {
     "name": "stdout",
     "output_type": "stream",
     "text": [
      "Rohan\n"
     ]
    }
   ],
   "source": [
    "#title method\n",
    "print(name.title())"
   ]
  },
  {
   "cell_type": "code",
   "execution_count": null,
   "metadata": {},
   "outputs": [],
   "source": [
    "#count method\n",
    "nam='Ritesh Tiwari'\n",
    "print(nam.count('i'))"
   ]
  },
  {
   "cell_type": "raw",
   "metadata": {},
   "source": [
    "take user name input\n",
    "(1)user name lenth\n",
    "(2)count the char "
   ]
  },
  {
   "cell_type": "code",
   "execution_count": 3,
   "metadata": {},
   "outputs": [
    {
     "name": "stdout",
     "output_type": "stream",
     "text": [
      "please enter your name and charriteshhh h\n",
      "user name lenth is 8 count of the char 3\n"
     ]
    }
   ],
   "source": [
    "user,char=input('please enter your name and char').split()\n",
    "print(f'user name lenth is {len(user)} count of the char {user.count(char)}')\n"
   ]
  },
  {
   "cell_type": "raw",
   "metadata": {},
   "source": [
    "strip method"
   ]
  },
  {
   "cell_type": "code",
   "execution_count": 4,
   "metadata": {},
   "outputs": [
    {
     "name": "stdout",
     "output_type": "stream",
     "text": [
      "ramesh\n"
     ]
    }
   ],
   "source": [
    "name='    ramesh      '# so many space is there so if want to remove that space we use strip method\n",
    "print(name.strip())"
   ]
  },
  {
   "cell_type": "code",
   "execution_count": 21,
   "metadata": {},
   "outputs": [
    {
     "name": "stdout",
     "output_type": "stream",
     "text": [
      "rahuls\n"
     ]
    }
   ],
   "source": [
    "#center method\n",
    "\n",
    "name='rahul'\n",
    "print(name.center(6,\"s\"))\n"
   ]
  },
  {
   "cell_type": "raw",
   "metadata": {},
   "source": [
    "operators"
   ]
  },
  {
   "cell_type": "code",
   "execution_count": 30,
   "metadata": {},
   "outputs": [
    {
     "name": "stdout",
     "output_type": "stream",
     "text": [
      "syamtiwari\n"
     ]
    },
    {
     "data": {
      "text/plain": [
       "25"
      ]
     },
     "execution_count": 30,
     "metadata": {},
     "output_type": "execute_result"
    }
   ],
   "source": [
    "#add\n",
    "name='syam'\n",
    "name=name+'tiwari'\n",
    "print(name)\n",
    "age=24\n",
    "age=age+1\n",
    "age\n"
   ]
  },
  {
   "cell_type": "raw",
   "metadata": {},
   "source": [
    "#and ,or operator"
   ]
  },
  {
   "cell_type": "code",
   "execution_count": 38,
   "metadata": {},
   "outputs": [
    {
     "name": "stdout",
     "output_type": "stream",
     "text": [
      "false\n"
     ]
    }
   ],
   "source": [
    "name=\"rohit\"\n",
    "age=26\n",
    "if name=='rohit'and age==27:\n",
    "    print('true')\n",
    "else:\n",
    "    print('false')\n"
   ]
  },
  {
   "cell_type": "code",
   "execution_count": 39,
   "metadata": {},
   "outputs": [
    {
     "name": "stdout",
     "output_type": "stream",
     "text": [
      "true\n"
     ]
    }
   ],
   "source": [
    "name=\"rohit\"\n",
    "age=26\n",
    "if name=='rohit'or age==27:\n",
    "    print('true')\n",
    "else:\n",
    "    print('false')"
   ]
  },
  {
   "cell_type": "code",
   "execution_count": null,
   "metadata": {},
   "outputs": [],
   "source": [
    "exercise: Ask users name and age.If user name start with (a or A)and age is above 10 then \n",
    "    print 'you are eligible for watch this movie'\n",
    "    else print 'you are not eligible for watch this movie'\n",
    "    "
   ]
  },
  {
   "cell_type": "code",
   "execution_count": 43,
   "metadata": {},
   "outputs": [
    {
     "name": "stdout",
     "output_type": "stream",
     "text": [
      "pls enter your nameAmit\n",
      "pls enter your age2\n",
      "you are not eligible for watch this movie\n"
     ]
    }
   ],
   "source": [
    "name=input('pls enter your name'  )\n",
    "age=input('pls enter your age')\n",
    "age=int(age)\n",
    "if age>10 and (name[0]=='a' or name[0]=='A'):\n",
    "    print('you are eligible for watch this movie')\n",
    "else:\n",
    "    print('you are not eligible for watch this movie')\n"
   ]
  },
  {
   "cell_type": "markdown",
   "metadata": {},
   "source": [
    "# list"
   ]
  },
  {
   "cell_type": "code",
   "execution_count": 44,
   "metadata": {},
   "outputs": [
    {
     "name": "stdout",
     "output_type": "stream",
     "text": [
      "[1, 2, 3, 4, 5] <class 'list'>\n"
     ]
    }
   ],
   "source": [
    "number=[1,2,3,4,5]\n",
    "print(number,type(number))"
   ]
  },
  {
   "cell_type": "code",
   "execution_count": 50,
   "metadata": {},
   "outputs": [
    {
     "name": "stdout",
     "output_type": "stream",
     "text": [
      "[1, 2, 3, 4, 5, 'mango', 'mango', 'mango', 'mango', 'mango', 'mango']\n"
     ]
    }
   ],
   "source": [
    "number.append('mango')\n",
    "print(number)"
   ]
  },
  {
   "cell_type": "code",
   "execution_count": 51,
   "metadata": {},
   "outputs": [
    {
     "name": "stdout",
     "output_type": "stream",
     "text": [
      "[1, 2, 3, 4, 5, 'mango', 'mango', 'mango', 'mango', 'mango', 'mango']\n"
     ]
    }
   ],
   "source": [
    "print(number)"
   ]
  },
  {
   "cell_type": "code",
   "execution_count": 54,
   "metadata": {},
   "outputs": [
    {
     "data": {
      "text/plain": [
       "['ram']"
      ]
     },
     "execution_count": 54,
     "metadata": {},
     "output_type": "execute_result"
    }
   ],
   "source": [
    "fruits=[]\n",
    "fruits.append('ram')\n",
    "fruits"
   ]
  },
  {
   "cell_type": "code",
   "execution_count": 57,
   "metadata": {},
   "outputs": [
    {
     "name": "stdout",
     "output_type": "stream",
     "text": [
      "['sohan', 'ram', 'rohit', 'sunil']\n",
      "['sohan', 'syam', 'ram', 'rohit', 'sunil']\n"
     ]
    }
   ],
   "source": [
    "name=['ram','rohit','sunil']\n",
    "#if we want add \"sohan \" in first position\n",
    "name.insert(0,'sohan')\n",
    "print(name)\n",
    "name.insert(1,'syam')\n",
    "print(name)"
   ]
  },
  {
   "cell_type": "code",
   "execution_count": 58,
   "metadata": {},
   "outputs": [
    {
     "name": "stdout",
     "output_type": "stream",
     "text": [
      "['mango', 'orange', 'graps', 'apple']\n"
     ]
    }
   ],
   "source": [
    "# How to joint two list \n",
    "fruits1=['mango','orange']\n",
    "fruits2=['graps','apple']\n",
    "fruits=fruits1+fruits2\n",
    "print(fruits)\n"
   ]
  },
  {
   "cell_type": "code",
   "execution_count": 60,
   "metadata": {},
   "outputs": [
    {
     "name": "stdout",
     "output_type": "stream",
     "text": [
      "['sohan', 'rohan', 'ram', 'rahim']\n",
      "['ram', 'rahim']\n"
     ]
    }
   ],
   "source": [
    "#extend method in list\n",
    "user1=['sohan','rohan']\n",
    "user2=['ram','rahim']\n",
    "user1.extend(user2)\n",
    "print(user1)\n",
    "print(user2)\n"
   ]
  },
  {
   "cell_type": "code",
   "execution_count": 61,
   "metadata": {},
   "outputs": [
    {
     "name": "stdout",
     "output_type": "stream",
     "text": [
      "['sohan', 'rohan', 'ram', 'rahim', ['ram', 'rahim']]\n"
     ]
    }
   ],
   "source": [
    "user1.append(user2)\n",
    "print(user1)"
   ]
  },
  {
   "cell_type": "code",
   "execution_count": 65,
   "metadata": {},
   "outputs": [
    {
     "name": "stdout",
     "output_type": "stream",
     "text": [
      "['harsh', 'syam']\n",
      "harsit\n",
      "sunil\n"
     ]
    }
   ],
   "source": [
    "#pop data from list\n",
    "name=['harsit','harsh','syam','sunil']\n",
    "pop=name.pop(0)\n",
    "pop1=name.pop(2)\n",
    "print(name)\n",
    "print(pop)\n",
    "print(pop1)\n"
   ]
  },
  {
   "cell_type": "code",
   "execution_count": 81,
   "metadata": {},
   "outputs": [
    {
     "data": {
      "text/plain": [
       "['harsit', 'harsh', 'sunil']"
      ]
     },
     "execution_count": 81,
     "metadata": {},
     "output_type": "execute_result"
    }
   ],
   "source": [
    "#delete operator in list\n",
    "name=['harsit','harsh','syam','sunil']\n",
    "del name[2]\n",
    "name\n"
   ]
  },
  {
   "cell_type": "code",
   "execution_count": 82,
   "metadata": {},
   "outputs": [
    {
     "data": {
      "text/plain": [
       "['harsit', 'harsh', 'sunil']"
      ]
     },
     "execution_count": 82,
     "metadata": {},
     "output_type": "execute_result"
    }
   ],
   "source": [
    "#if we don't know the position of data than we remove method\n",
    "name=['harsit','harsh','syam','sunil']\n",
    "name.remove(\"syam\")\n",
    "name\n"
   ]
  },
  {
   "cell_type": "code",
   "execution_count": 85,
   "metadata": {},
   "outputs": [
    {
     "name": "stdout",
     "output_type": "stream",
     "text": [
      "harshit is present\n"
     ]
    }
   ],
   "source": [
    "#(in keyword in list)if we want to check data is available or not in our list\n",
    "name=['harsit','harsh','syam','sunil']\n",
    "if 'harsit' in name:\n",
    "    print('harshit is present')\n",
    "else:\n",
    "    print('not present')\n"
   ]
  },
  {
   "cell_type": "code",
   "execution_count": 100,
   "metadata": {},
   "outputs": [
    {
     "name": "stdout",
     "output_type": "stream",
     "text": [
      "2\n"
     ]
    }
   ],
   "source": [
    "#count method Return the number of times the value \"harsh\" appears int the name list:\n",
    "name=['harsit','harsh','harsh','syam','sunil']\n",
    "x=name.count('harsh')\n",
    "print(x)\n",
    "\n",
    "\n"
   ]
  },
  {
   "cell_type": "code",
   "execution_count": 102,
   "metadata": {},
   "outputs": [
    {
     "data": {
      "text/plain": [
       "['apple', 'banana', 'cherry']"
      ]
     },
     "execution_count": 102,
     "metadata": {},
     "output_type": "execute_result"
    }
   ],
   "source": [
    "#sort method in list\n",
    "fruits = [\"apple\",\"cherry\",'banana']\n",
    "fruits.sort()\n",
    "fruits\n"
   ]
  },
  {
   "cell_type": "code",
   "execution_count": 103,
   "metadata": {},
   "outputs": [
    {
     "data": {
      "text/plain": [
       "[]"
      ]
     },
     "execution_count": 103,
     "metadata": {},
     "output_type": "execute_result"
    }
   ],
   "source": [
    "#clear method in list:\n",
    "name=['harsit','harsh','harsh','syam','sunil']\n",
    "name.clear()\n",
    "name\n"
   ]
  },
  {
   "cell_type": "code",
   "execution_count": 105,
   "metadata": {},
   "outputs": [
    {
     "data": {
      "text/plain": [
       "['harsit', 'harsh', 'harsh', 'syam', 'sunil']"
      ]
     },
     "execution_count": 105,
     "metadata": {},
     "output_type": "execute_result"
    }
   ],
   "source": [
    "#copy method\n",
    "name=['harsit','harsh','harsh','syam','sunil']\n",
    "copy=name.copy()\n",
    "copy"
   ]
  },
  {
   "cell_type": "code",
   "execution_count": 109,
   "metadata": {},
   "outputs": [
    {
     "name": "stdout",
     "output_type": "stream",
     "text": [
      "['ritesh', '36'] <class 'list'>\n"
     ]
    }
   ],
   "source": [
    "#split method in list\n",
    "user='ritesh,36'.split(',')\n",
    "print(user,type(user))"
   ]
  },
  {
   "cell_type": "code",
   "execution_count": 111,
   "metadata": {},
   "outputs": [
    {
     "name": "stdout",
     "output_type": "stream",
     "text": [
      "harsit,harsh <class 'str'>\n"
     ]
    }
   ],
   "source": [
    "#join method if we want to convert list to string\n",
    "name=['harsit','harsh']\n",
    "x=(','.join(name))\n",
    "print(x,type(x))"
   ]
  },
  {
   "cell_type": "code",
   "execution_count": 117,
   "metadata": {},
   "outputs": [
    {
     "name": "stdout",
     "output_type": "stream",
     "text": [
      "[1, 2, 3]\n",
      "3\n"
     ]
    }
   ],
   "source": [
    "#list inside list\n",
    "matrix=[[1,2,3],[4,5,6],[7,8,9]]\n",
    "print(matrix[0])\n",
    "print(matrix[0][2])\n"
   ]
  },
  {
   "cell_type": "code",
   "execution_count": 121,
   "metadata": {},
   "outputs": [
    {
     "name": "stdout",
     "output_type": "stream",
     "text": [
      "1\n",
      "2\n",
      "3\n",
      "4\n",
      "5\n",
      "6\n",
      "7\n",
      "8\n",
      "9\n"
     ]
    }
   ],
   "source": [
    "for num in matrix:\n",
    "    for i in num:\n",
    "         print(i)"
   ]
  },
  {
   "cell_type": "code",
   "execution_count": 122,
   "metadata": {},
   "outputs": [
    {
     "data": {
      "text/plain": [
       "[1, 2, 3, 4, 5, 6, 7, 8, 9, 10]"
      ]
     },
     "execution_count": 122,
     "metadata": {},
     "output_type": "execute_result"
    }
   ],
   "source": [
    "num=list(range(1,11))\n",
    "num"
   ]
  },
  {
   "cell_type": "code",
   "execution_count": 124,
   "metadata": {},
   "outputs": [
    {
     "name": "stdout",
     "output_type": "stream",
     "text": [
      "2\n"
     ]
    }
   ],
   "source": [
    "#min function in list\n",
    "number=[2,3,4,5,6,7,8]\n",
    "print(min(number))"
   ]
  },
  {
   "cell_type": "code",
   "execution_count": 125,
   "metadata": {},
   "outputs": [
    {
     "name": "stdout",
     "output_type": "stream",
     "text": [
      "8\n"
     ]
    }
   ],
   "source": [
    "#max function in list\n",
    "print(max(number))"
   ]
  },
  {
   "cell_type": "markdown",
   "metadata": {},
   "source": [
    "# Tuple"
   ]
  },
  {
   "cell_type": "code",
   "execution_count": null,
   "metadata": {},
   "outputs": [],
   "source": []
  },
  {
   "cell_type": "code",
   "execution_count": null,
   "metadata": {},
   "outputs": [],
   "source": []
  },
  {
   "cell_type": "code",
   "execution_count": null,
   "metadata": {},
   "outputs": [],
   "source": []
  },
  {
   "cell_type": "code",
   "execution_count": null,
   "metadata": {},
   "outputs": [],
   "source": []
  },
  {
   "cell_type": "code",
   "execution_count": null,
   "metadata": {},
   "outputs": [],
   "source": []
  },
  {
   "cell_type": "code",
   "execution_count": null,
   "metadata": {},
   "outputs": [],
   "source": []
  },
  {
   "cell_type": "code",
   "execution_count": null,
   "metadata": {},
   "outputs": [],
   "source": []
  },
  {
   "cell_type": "code",
   "execution_count": null,
   "metadata": {},
   "outputs": [],
   "source": []
  },
  {
   "cell_type": "code",
   "execution_count": null,
   "metadata": {},
   "outputs": [],
   "source": []
  }
 ],
 "metadata": {
  "kernelspec": {
   "display_name": "Python 3",
   "language": "python",
   "name": "python3"
  }
 },
 "nbformat": 4,
 "nbformat_minor": 2
}
