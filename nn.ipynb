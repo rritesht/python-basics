{
 "cells": [
  {
   "cell_type": "markdown",
   "metadata": {},
   "source": [
    "# string formating "
   ]
  },
  {
   "cell_type": "code",
   "execution_count": 4,
   "metadata": {
    "scrolled": false
   },
   "outputs": [
    {
     "name": "stdout",
     "output_type": "stream",
     "text": [
      "your name is Ritesh Tiwari and your age is 36\n"
     ]
    }
   ],
   "source": [
    "name='Ritesh'\n",
    "age=36\n",
    "print(f'your name is {name} and your age is {age}')"
   ]
  },
  {
   "cell_type": "raw",
   "metadata": {},
   "source": [
    "ask user to give 3 numbers and you have to print average of this three numbers using string formating "
   ]
  },
  {
   "cell_type": "code",
   "execution_count": 7,
   "metadata": {},
   "outputs": [
    {
     "name": "stdout",
     "output_type": "stream",
     "text": [
      "pls enter your date of birth month and year comma separated:2,2,1990\n",
      "all three number average is 691\n"
     ]
    }
   ],
   "source": [
    "date,month,year=input('pls enter your date of birth month and year comma separated:').split(',')\n",
    "print(f'all three number average is {int(date)+int(month)+int(year)//3}')\n"
   ]
  },
  {
   "cell_type": "raw",
   "metadata": {},
   "source": [
    "string indexing "
   ]
  },
  {
   "cell_type": "code",
   "execution_count": 10,
   "metadata": {},
   "outputs": [
    {
     "name": "stdout",
     "output_type": "stream",
     "text": [
      "t\n",
      "t\n"
     ]
    }
   ],
   "source": [
    "language='python'\n",
    "# p=0=-6\n",
    "# y=1=-5\n",
    "# t=2=-4\n",
    "# h=3=-3\n",
    "# o=2=-2\n",
    "# n=1=-1\n",
    "#if we want to print t\n",
    "print(language[2])\n",
    "print(language[-4])\n"
   ]
  },
  {
   "cell_type": "raw",
   "metadata": {},
   "source": [
    "string slicing"
   ]
  },
  {
   "cell_type": "code",
   "execution_count": 13,
   "metadata": {},
   "outputs": [
    {
     "name": "stdout",
     "output_type": "stream",
     "text": [
      "py\n",
      "pyt\n"
     ]
    }
   ],
   "source": [
    "lang='python'\n",
    "#if we want to print multiple words like py\n",
    "print(lang[0:2])\n",
    "#if we want to print pyt\n",
    "print(lang[0:3])\n",
    "\n"
   ]
  },
  {
   "cell_type": "raw",
   "metadata": {},
   "source": [
    "step argument "
   ]
  },
  {
   "cell_type": "code",
   "execution_count": 15,
   "metadata": {},
   "outputs": [
    {
     "name": "stdout",
     "output_type": "stream",
     "text": [
      "Rites\n"
     ]
    }
   ],
   "source": [
    "name='Ritesh'\n",
    "print(name[0:5])"
   ]
  },
  {
   "cell_type": "code",
   "execution_count": 18,
   "metadata": {},
   "outputs": [
    {
     "name": "stdout",
     "output_type": "stream",
     "text": [
      "Rts\n"
     ]
    }
   ],
   "source": [
    "#if we want to print Rts\n",
    "print(name[0:6:2])#-----it will skip one step"
   ]
  },
  {
   "cell_type": "code",
   "execution_count": 40,
   "metadata": {},
   "outputs": [
    {
     "name": "stdout",
     "output_type": "stream",
     "text": [
      "hsetiR\n",
      "stR\n",
      "hsetiR\n"
     ]
    }
   ],
   "source": [
    "#if we want reverse of name than\n",
    "print(name[6::-1])\n",
    "print(name[4::-2])\n",
    "print(name[-1::-1])"
   ]
  },
  {
   "cell_type": "raw",
   "metadata": {},
   "source": [
    "ask user name and print back user name in reverse order."
   ]
  },
  {
   "cell_type": "code",
   "execution_count": 42,
   "metadata": {},
   "outputs": [
    {
     "name": "stdout",
     "output_type": "stream",
     "text": [
      "please enter your name Ritesh Tiwari\n",
      "your reverse name is irawiT hsetiR\n"
     ]
    }
   ],
   "source": [
    "user=input('please enter your name ')\n",
    "print(f'your reverse name is {user[-1::-1]}')"
   ]
  },
  {
   "cell_type": "raw",
   "metadata": {},
   "source": [
    "String method"
   ]
  },
  {
   "cell_type": "code",
   "execution_count": 43,
   "metadata": {},
   "outputs": [
    {
     "name": "stdout",
     "output_type": "stream",
     "text": [
      "5\n"
     ]
    }
   ],
   "source": [
    "#len function\n",
    "name='Rohan'\n",
    "print(len(name))"
   ]
  },
  {
   "cell_type": "code",
   "execution_count": 46,
   "metadata": {},
   "outputs": [
    {
     "name": "stdout",
     "output_type": "stream",
     "text": [
      "rohan\n"
     ]
    }
   ],
   "source": [
    "#lower method\n",
    "print(name.lower())"
   ]
  },
  {
   "cell_type": "code",
   "execution_count": 47,
   "metadata": {},
   "outputs": [
    {
     "name": "stdout",
     "output_type": "stream",
     "text": [
      "ROHAN\n"
     ]
    }
   ],
   "source": [
    "#upper method\n",
    "print(name.upper())"
   ]
  },
  {
   "cell_type": "code",
   "execution_count": 48,
   "metadata": {},
   "outputs": [
    {
     "name": "stdout",
     "output_type": "stream",
     "text": [
      "Rohan\n"
     ]
    }
   ],
   "source": [
    "#title method\n",
    "print(name.title())"
   ]
  },
  {
   "cell_type": "code",
   "execution_count": null,
   "metadata": {},
   "outputs": [],
   "source": [
    "#count method\n",
    "nam='Ritesh Tiwari'\n",
    "print(nam.count('i'))"
   ]
  },
  {
   "cell_type": "raw",
   "metadata": {},
   "source": [
    "take user name input\n",
    "(1)user name lenth\n",
    "(2)count the char "
   ]
  },
  {
   "cell_type": "code",
   "execution_count": 3,
   "metadata": {},
   "outputs": [
    {
     "name": "stdout",
     "output_type": "stream",
     "text": [
      "please enter your name and charriteshhh h\n",
      "user name lenth is 8 count of the char 3\n"
     ]
    }
   ],
   "source": [
    "user,char=input('please enter your name and char').split()\n",
    "print(f'user name lenth is {len(user)} count of the char {user.count(char)}')\n"
   ]
  },
  {
   "cell_type": "raw",
   "metadata": {},
   "source": [
    "strip method"
   ]
  },
  {
   "cell_type": "code",
   "execution_count": 4,
   "metadata": {},
   "outputs": [
    {
     "name": "stdout",
     "output_type": "stream",
     "text": [
      "ramesh\n"
     ]
    }
   ],
   "source": [
    "name='    ramesh      '# so many space is there so if want to remove that space we use strip method\n",
    "print(name.strip())"
   ]
  },
  {
   "cell_type": "code",
   "execution_count": 21,
   "metadata": {},
   "outputs": [
    {
     "name": "stdout",
     "output_type": "stream",
     "text": [
      "rahuls\n"
     ]
    }
   ],
   "source": [
    "#center method\n",
    "\n",
    "name='rahul'\n",
    "print(name.center(6,\"s\"))\n"
   ]
  },
  {
   "cell_type": "raw",
   "metadata": {},
   "source": [
    "operators"
   ]
  },
  {
   "cell_type": "code",
   "execution_count": 30,
   "metadata": {},
   "outputs": [
    {
     "name": "stdout",
     "output_type": "stream",
     "text": [
      "syamtiwari\n"
     ]
    },
    {
     "data": {
      "text/plain": [
       "25"
      ]
     },
     "execution_count": 30,
     "metadata": {},
     "output_type": "execute_result"
    }
   ],
   "source": [
    "#add\n",
    "name='syam'\n",
    "name=name+'tiwari'\n",
    "print(name)\n",
    "age=24\n",
    "age=age+1\n",
    "age\n"
   ]
  },
  {
   "cell_type": "raw",
   "metadata": {},
   "source": [
    "#and ,or operator"
   ]
  },
  {
   "cell_type": "code",
   "execution_count": 38,
   "metadata": {},
   "outputs": [
    {
     "name": "stdout",
     "output_type": "stream",
     "text": [
      "false\n"
     ]
    }
   ],
   "source": [
    "name=\"rohit\"\n",
    "age=26\n",
    "if name=='rohit'and age==27:\n",
    "    print('true')\n",
    "else:\n",
    "    print('false')\n"
   ]
  },
  {
   "cell_type": "code",
   "execution_count": 39,
   "metadata": {},
   "outputs": [
    {
     "name": "stdout",
     "output_type": "stream",
     "text": [
      "true\n"
     ]
    }
   ],
   "source": [
    "name=\"rohit\"\n",
    "age=26\n",
    "if name=='rohit'or age==27:\n",
    "    print('true')\n",
    "else:\n",
    "    print('false')"
   ]
  },
  {
   "cell_type": "code",
   "execution_count": null,
   "metadata": {},
   "outputs": [],
   "source": [
    "exercise: Ask users name and age.If user name start with (a or A)and age is above 10 then \n",
    "    print 'you are eligible for watch this movie'\n",
    "    else print 'you are not eligible for watch this movie'\n",
    "    "
   ]
  },
  {
   "cell_type": "code",
   "execution_count": 43,
   "metadata": {},
   "outputs": [
    {
     "name": "stdout",
     "output_type": "stream",
     "text": [
      "pls enter your nameAmit\n",
      "pls enter your age2\n",
      "you are not eligible for watch this movie\n"
     ]
    }
   ],
   "source": [
    "name=input('pls enter your name'  )\n",
    "age=input('pls enter your age')\n",
    "age=int(age)\n",
    "if age>10 and (name[0]=='a' or name[0]=='A'):\n",
    "    print('you are eligible for watch this movie')\n",
    "else:\n",
    "    print('you are not eligible for watch this movie')\n"
   ]
  },
  {
   "cell_type": "markdown",
   "metadata": {},
   "source": [
    "# list"
   ]
  },
  {
   "cell_type": "code",
   "execution_count": 44,
   "metadata": {},
   "outputs": [
    {
     "name": "stdout",
     "output_type": "stream",
     "text": [
      "[1, 2, 3, 4, 5] <class 'list'>\n"
     ]
    }
   ],
   "source": [
    "number=[1,2,3,4,5]\n",
    "print(number,type(number))"
   ]
  },
  {
   "cell_type": "code",
   "execution_count": 50,
   "metadata": {},
   "outputs": [
    {
     "name": "stdout",
     "output_type": "stream",
     "text": [
      "[1, 2, 3, 4, 5, 'mango', 'mango', 'mango', 'mango', 'mango', 'mango']\n"
     ]
    }
   ],
   "source": [
    "number.append('mango')\n",
    "print(number)"
   ]
  },
  {
   "cell_type": "code",
   "execution_count": 51,
   "metadata": {},
   "outputs": [
    {
     "name": "stdout",
     "output_type": "stream",
     "text": [
      "[1, 2, 3, 4, 5, 'mango', 'mango', 'mango', 'mango', 'mango', 'mango']\n"
     ]
    }
   ],
   "source": [
    "print(number)"
   ]
  },
  {
   "cell_type": "code",
   "execution_count": 54,
   "metadata": {},
   "outputs": [
    {
     "data": {
      "text/plain": [
       "['ram']"
      ]
     },
     "execution_count": 54,
     "metadata": {},
     "output_type": "execute_result"
    }
   ],
   "source": [
    "fruits=[]\n",
    "fruits.append('ram')\n",
    "fruits"
   ]
  },
  {
   "cell_type": "code",
   "execution_count": 57,
   "metadata": {},
   "outputs": [
    {
     "name": "stdout",
     "output_type": "stream",
     "text": [
      "['sohan', 'ram', 'rohit', 'sunil']\n",
      "['sohan', 'syam', 'ram', 'rohit', 'sunil']\n"
     ]
    }
   ],
   "source": [
    "name=['ram','rohit','sunil']\n",
    "#if we want add \"sohan \" in first position\n",
    "name.insert(0,'sohan')\n",
    "print(name)\n",
    "name.insert(1,'syam')\n",
    "print(name)"
   ]
  },
  {
   "cell_type": "code",
   "execution_count": 58,
   "metadata": {},
   "outputs": [
    {
     "name": "stdout",
     "output_type": "stream",
     "text": [
      "['mango', 'orange', 'graps', 'apple']\n"
     ]
    }
   ],
   "source": [
    "# How to joint two list \n",
    "fruits1=['mango','orange']\n",
    "fruits2=['graps','apple']\n",
    "fruits=fruits1+fruits2\n",
    "print(fruits)\n"
   ]
  },
  {
   "cell_type": "code",
   "execution_count": 60,
   "metadata": {},
   "outputs": [
    {
     "name": "stdout",
     "output_type": "stream",
     "text": [
      "['sohan', 'rohan', 'ram', 'rahim']\n",
      "['ram', 'rahim']\n"
     ]
    }
   ],
   "source": [
    "#extend method in list\n",
    "user1=['sohan','rohan']\n",
    "user2=['ram','rahim']\n",
    "user1.extend(user2)\n",
    "print(user1)\n",
    "print(user2)\n"
   ]
  },
  {
   "cell_type": "code",
   "execution_count": 61,
   "metadata": {},
   "outputs": [
    {
     "name": "stdout",
     "output_type": "stream",
     "text": [
      "['sohan', 'rohan', 'ram', 'rahim', ['ram', 'rahim']]\n"
     ]
    }
   ],
   "source": [
    "user1.append(user2)\n",
    "print(user1)"
   ]
  },
  {
   "cell_type": "code",
   "execution_count": 65,
   "metadata": {},
   "outputs": [
    {
     "name": "stdout",
     "output_type": "stream",
     "text": [
      "['harsh', 'syam']\n",
      "harsit\n",
      "sunil\n"
     ]
    }
   ],
   "source": [
    "#pop data from list\n",
    "name=['harsit','harsh','syam','sunil']\n",
    "pop=name.pop(0)\n",
    "pop1=name.pop(2)\n",
    "print(name)\n",
    "print(pop)\n",
    "print(pop1)\n"
   ]
  },
  {
   "cell_type": "code",
   "execution_count": 81,
   "metadata": {},
   "outputs": [
    {
     "data": {
      "text/plain": [
       "['harsit', 'harsh', 'sunil']"
      ]
     },
     "execution_count": 81,
     "metadata": {},
     "output_type": "execute_result"
    }
   ],
   "source": [
    "#delete operator in list\n",
    "name=['harsit','harsh','syam','sunil']\n",
    "del name[2]\n",
    "name\n"
   ]
  },
  {
   "cell_type": "code",
   "execution_count": 82,
   "metadata": {},
   "outputs": [
    {
     "data": {
      "text/plain": [
       "['harsit', 'harsh', 'sunil']"
      ]
     },
     "execution_count": 82,
     "metadata": {},
     "output_type": "execute_result"
    }
   ],
   "source": [
    "#if we don't know the position of data than we remove method\n",
    "name=['harsit','harsh','syam','sunil']\n",
    "name.remove(\"syam\")\n",
    "name\n"
   ]
  },
  {
   "cell_type": "code",
   "execution_count": 85,
   "metadata": {},
   "outputs": [
    {
     "name": "stdout",
     "output_type": "stream",
     "text": [
      "harshit is present\n"
     ]
    }
   ],
   "source": [
    "#(in keyword in list)if we want to check data is available or not in our list\n",
    "name=['harsit','harsh','syam','sunil']\n",
    "if 'harsit' in name:\n",
    "    print('harshit is present')\n",
    "else:\n",
    "    print('not present')\n"
   ]
  },
  {
   "cell_type": "code",
   "execution_count": 100,
   "metadata": {},
   "outputs": [
    {
     "name": "stdout",
     "output_type": "stream",
     "text": [
      "2\n"
     ]
    }
   ],
   "source": [
    "#count method Return the number of times the value \"harsh\" appears int the name list:\n",
    "name=['harsit','harsh','harsh','syam','sunil']\n",
    "x=name.count('harsh')\n",
    "print(x)\n",
    "\n",
    "\n"
   ]
  },
  {
   "cell_type": "code",
   "execution_count": 102,
   "metadata": {},
   "outputs": [
    {
     "data": {
      "text/plain": [
       "['apple', 'banana', 'cherry']"
      ]
     },
     "execution_count": 102,
     "metadata": {},
     "output_type": "execute_result"
    }
   ],
   "source": [
    "#sort method in list\n",
    "fruits = [\"apple\",\"cherry\",'banana']\n",
    "fruits.sort()\n",
    "fruits\n"
   ]
  },
  {
   "cell_type": "code",
   "execution_count": 103,
   "metadata": {},
   "outputs": [
    {
     "data": {
      "text/plain": [
       "[]"
      ]
     },
     "execution_count": 103,
     "metadata": {},
     "output_type": "execute_result"
    }
   ],
   "source": [
    "#clear method in list:\n",
    "name=['harsit','harsh','harsh','syam','sunil']\n",
    "name.clear()\n",
    "name\n"
   ]
  },
  {
   "cell_type": "code",
   "execution_count": 105,
   "metadata": {},
   "outputs": [
    {
     "data": {
      "text/plain": [
       "['harsit', 'harsh', 'harsh', 'syam', 'sunil']"
      ]
     },
     "execution_count": 105,
     "metadata": {},
     "output_type": "execute_result"
    }
   ],
   "source": [
    "#copy method\n",
    "name=['harsit','harsh','harsh','syam','sunil']\n",
    "copy=name.copy()\n",
    "copy"
   ]
  },
  {
   "cell_type": "code",
   "execution_count": 109,
   "metadata": {},
   "outputs": [
    {
     "name": "stdout",
     "output_type": "stream",
     "text": [
      "['ritesh', '36'] <class 'list'>\n"
     ]
    }
   ],
   "source": [
    "#split method in list\n",
    "user='ritesh,36'.split(',')\n",
    "print(user,type(user))"
   ]
  },
  {
   "cell_type": "code",
   "execution_count": 111,
   "metadata": {},
   "outputs": [
    {
     "name": "stdout",
     "output_type": "stream",
     "text": [
      "harsit,harsh <class 'str'>\n"
     ]
    }
   ],
   "source": [
    "#join method if we want to convert list to string\n",
    "name=['harsit','harsh']\n",
    "x=(','.join(name))\n",
    "print(x,type(x))"
   ]
  },
  {
   "cell_type": "code",
   "execution_count": 117,
   "metadata": {},
   "outputs": [
    {
     "name": "stdout",
     "output_type": "stream",
     "text": [
      "[1, 2, 3]\n",
      "3\n"
     ]
    }
   ],
   "source": [
    "#list inside list\n",
    "matrix=[[1,2,3],[4,5,6],[7,8,9]]\n",
    "print(matrix[0])\n",
    "print(matrix[0][2])\n"
   ]
  },
  {
   "cell_type": "code",
   "execution_count": 121,
   "metadata": {},
   "outputs": [
    {
     "name": "stdout",
     "output_type": "stream",
     "text": [
      "1\n",
      "2\n",
      "3\n",
      "4\n",
      "5\n",
      "6\n",
      "7\n",
      "8\n",
      "9\n"
     ]
    }
   ],
   "source": [
    "for num in matrix:\n",
    "    for i in num:\n",
    "         print(i)"
   ]
  },
  {
   "cell_type": "code",
   "execution_count": 122,
   "metadata": {},
   "outputs": [
    {
     "data": {
      "text/plain": [
       "[1, 2, 3, 4, 5, 6, 7, 8, 9, 10]"
      ]
     },
     "execution_count": 122,
     "metadata": {},
     "output_type": "execute_result"
    }
   ],
   "source": [
    "num=list(range(1,11))\n",
    "num"
   ]
  },
  {
   "cell_type": "code",
   "execution_count": 124,
   "metadata": {},
   "outputs": [
    {
     "name": "stdout",
     "output_type": "stream",
     "text": [
      "2\n"
     ]
    }
   ],
   "source": [
    "#min function in list\n",
    "number=[2,3,4,5,6,7,8]\n",
    "print(min(number))"
   ]
  },
  {
   "cell_type": "code",
   "execution_count": null,
   "metadata": {},
   "outputs": [],
   "source": [
    "#max function in list\n",
    "print(max(number))"
   ]
  },
  {
   "cell_type": "raw",
   "metadata": {},
   "source": [
    "# Nested list comprehention\n",
    "Nested list means list inside list"
   ]
  },
  {
   "cell_type": "code",
   "execution_count": 49,
   "metadata": {},
   "outputs": [
    {
     "name": "stdout",
     "output_type": "stream",
     "text": [
      "[[1, 2, 3], [1, 2, 3], [1, 2, 3], [1, 2, 3]]\n"
     ]
    }
   ],
   "source": [
    "\n",
    "new=[]\n",
    "for i in range (4):\n",
    "    new.append([1,2,3])\n",
    "print(new)    "
   ]
  },
  {
   "cell_type": "code",
   "execution_count": 61,
   "metadata": {},
   "outputs": [
    {
     "data": {
      "text/plain": [
       "[[1, 2, 3], [1, 2, 3], [1, 2, 3]]"
      ]
     },
     "execution_count": 61,
     "metadata": {},
     "output_type": "execute_result"
    }
   ],
   "source": [
    "e=[[i for i in range (1,4)] for j in range (3)]\n",
    "e"
   ]
  },
  {
   "cell_type": "code",
   "execution_count": null,
   "metadata": {},
   "outputs": [],
   "source": []
  },
  {
   "cell_type": "code",
   "execution_count": 125,
   "metadata": {},
   "outputs": [
    {
     "name": "stdout",
     "output_type": "stream",
     "text": [
      "8\n"
     ]
    }
   ],
   "source": []
  },
  {
   "cell_type": "markdown",
   "metadata": {},
   "source": [
    "# Tuple"
   ]
  },
  {
   "cell_type": "code",
   "execution_count": 1,
   "metadata": {},
   "outputs": [
    {
     "name": "stdout",
     "output_type": "stream",
     "text": [
      "ritersh\n"
     ]
    }
   ],
   "source": [
    "#Tuple unpacking \n",
    "user=('ritersh','rohan','sohan')\n",
    "\n",
    "a,b,c=(user)\n",
    "print(a)\n"
   ]
  },
  {
   "cell_type": "code",
   "execution_count": 2,
   "metadata": {},
   "outputs": [
    {
     "data": {
      "text/plain": [
       "('hamant', 123, [123, 456, 'i am ritesh'])"
      ]
     },
     "execution_count": 2,
     "metadata": {},
     "output_type": "execute_result"
    }
   ],
   "source": [
    "#List inside tuple\n",
    "name=('hamant',123,[123,456])\n",
    "name[2].append('i am ritesh')\n",
    "name"
   ]
  },
  {
   "cell_type": "code",
   "execution_count": 3,
   "metadata": {},
   "outputs": [
    {
     "data": {
      "text/plain": [
       "21"
      ]
     },
     "execution_count": 3,
     "metadata": {},
     "output_type": "execute_result"
    }
   ],
   "source": [
    "#sum number in tuple\n",
    "number=(1,2,3,4,5,6)\n",
    "sum=sum(number)\n",
    "sum\n"
   ]
  },
  {
   "cell_type": "code",
   "execution_count": 4,
   "metadata": {},
   "outputs": [
    {
     "data": {
      "text/plain": [
       "[1, 2, 3, 4, 5, 6]"
      ]
     },
     "execution_count": 4,
     "metadata": {},
     "output_type": "execute_result"
    }
   ],
   "source": [
    "#Tuple to list \n",
    "num=(1,2,3,4,5,6)\n",
    "num=list(num)\n",
    "num"
   ]
  },
  {
   "cell_type": "code",
   "execution_count": 111,
   "metadata": {},
   "outputs": [
    {
     "data": {
      "text/plain": [
       "(1, 2, 3, 4, [909, 6, 7])"
      ]
     },
     "execution_count": 111,
     "metadata": {},
     "output_type": "execute_result"
    }
   ],
   "source": [
    "num=(1,2,3,4,[5,6,7])\n",
    "num[4][0]=909\n",
    "num"
   ]
  },
  {
   "cell_type": "code",
   "execution_count": 114,
   "metadata": {},
   "outputs": [
    {
     "ename": "NameError",
     "evalue": "name 'num' is not defined",
     "output_type": "error",
     "traceback": [
      "\u001b[1;31m---------------------------------------------------------------------------\u001b[0m",
      "\u001b[1;31mNameError\u001b[0m                                 Traceback (most recent call last)",
      "\u001b[1;32m<ipython-input-114-ccdce7af60a1>\u001b[0m in \u001b[0;36m<module>\u001b[1;34m\u001b[0m\n\u001b[0;32m      1\u001b[0m \u001b[0mnum\u001b[0m\u001b[1;33m=\u001b[0m\u001b[1;33m(\u001b[0m\u001b[1;36m1\u001b[0m\u001b[1;33m,\u001b[0m\u001b[1;36m2\u001b[0m\u001b[1;33m,\u001b[0m\u001b[1;36m3\u001b[0m\u001b[1;33m)\u001b[0m\u001b[1;33m\u001b[0m\u001b[1;33m\u001b[0m\u001b[0m\n\u001b[0;32m      2\u001b[0m \u001b[1;32mdel\u001b[0m\u001b[1;33m(\u001b[0m\u001b[0mnum\u001b[0m\u001b[1;33m)\u001b[0m\u001b[1;33m\u001b[0m\u001b[1;33m\u001b[0m\u001b[0m\n\u001b[1;32m----> 3\u001b[1;33m \u001b[0mnum\u001b[0m\u001b[1;33m\u001b[0m\u001b[1;33m\u001b[0m\u001b[0m\n\u001b[0m",
      "\u001b[1;31mNameError\u001b[0m: name 'num' is not defined"
     ]
    }
   ],
   "source": [
    "num=(1,2,3)\n",
    "del(num)\n",
    "num"
   ]
  },
  {
   "cell_type": "code",
   "execution_count": null,
   "metadata": {},
   "outputs": [],
   "source": []
  },
  {
   "cell_type": "code",
   "execution_count": null,
   "metadata": {},
   "outputs": [],
   "source": []
  },
  {
   "cell_type": "markdown",
   "metadata": {},
   "source": [
    "# Dictionaries"
   ]
  },
  {
   "cell_type": "code",
   "execution_count": 24,
   "metadata": {},
   "outputs": [
    {
     "name": "stdout",
     "output_type": "stream",
     "text": [
      "Ritesh\n",
      "36\n",
      "dict_values(['Ritesh', 36])\n",
      "dict_keys(['name', 'age'])\n"
     ]
    }
   ],
   "source": [
    "user={'name':'Ritesh','age':36}\n",
    "print(user['name'])\n",
    "print(user['age'])\n",
    "a=user.keys()\n",
    "b=user.values()\n",
    "print(b)\n",
    "print(a)"
   ]
  },
  {
   "cell_type": "code",
   "execution_count": 35,
   "metadata": {},
   "outputs": [
    {
     "name": "stdout",
     "output_type": "stream",
     "text": [
      "dict_items([('name', 'Ritesh'), ('age', 36), ('movie', 'DDLJ'), ('song', 'DHKMN')])\n",
      "your key is nameand your value is Ritesh\n",
      "your key is ageand your value is 36\n",
      "your key is movieand your value is DDLJ\n",
      "your key is songand your value is DHKMN\n"
     ]
    }
   ],
   "source": [
    "user={'name':'Ritesh','age':36,'movie':'DDLJ','song':'DHKMN'}\n",
    "user_item=user.items()\n",
    "print(user_item)\n",
    "for i,j in user.items():\n",
    "    print(f'your key is {i}and your value is {j}')"
   ]
  },
  {
   "cell_type": "code",
   "execution_count": 38,
   "metadata": {},
   "outputs": [
    {
     "name": "stdout",
     "output_type": "stream",
     "text": [
      "dict_items([('name', 'Ritesh'), ('age', 36), ('movie', 'DDLJ'), ('song', 'DHKMN')])\n",
      "your key is nameand your value is Ritesh\n",
      "your key is ageand your value is 36\n",
      "your key is movieand your value is DDLJ\n",
      "your key is songand your value is DHKMN\n"
     ]
    }
   ],
   "source": [
    "aa={'name':'Ritesh','age':36,'movie':'DDLJ','song':'DHKMN'}\n",
    "mm=aa.items()\n",
    "print(mm)\n",
    "for i,k in mm:\n",
    "    print(f'your key is {i}and your value is {k}')"
   ]
  },
  {
   "cell_type": "code",
   "execution_count": 39,
   "metadata": {},
   "outputs": [
    {
     "data": {
      "text/plain": [
       "{'name': 'Ritesh',\n",
       " 'age': 36,\n",
       " 'movie': 'DDLJ',\n",
       " 'song': 'DHKMN',\n",
       " 'fav_book': ['pilot', 'nirogdham']}"
      ]
     },
     "execution_count": 39,
     "metadata": {},
     "output_type": "execute_result"
    }
   ],
   "source": [
    "#Add & delete data from dictionaries:\n",
    "#Add data\n",
    "aa={'name':'Ritesh','age':36,'movie':'DDLJ','song':'DHKMN'}\n",
    "aa['fav_book']=['pilot','nirogdham']\n",
    "aa"
   ]
  },
  {
   "cell_type": "code",
   "execution_count": 42,
   "metadata": {},
   "outputs": [
    {
     "name": "stdout",
     "output_type": "stream",
     "text": [
      "{'name': 'Ritesh', 'movie': 'DDLJ', 'song': 'DHKMN'}\n",
      "36\n"
     ]
    }
   ],
   "source": [
    "#pop method:\n",
    "aa={'name':'Ritesh','age':36,'movie':'DDLJ','song':'DHKMN'}\n",
    "m=aa.pop('age')\n",
    "print(aa)\n",
    "print(m)\n"
   ]
  },
  {
   "cell_type": "code",
   "execution_count": 44,
   "metadata": {},
   "outputs": [
    {
     "data": {
      "text/plain": [
       "{'name': 'Ritesh',\n",
       " 'age': 36,\n",
       " 'movie': 'DDLJ',\n",
       " 'song': 'DHKMN',\n",
       " 'school': 'LLPUVM',\n",
       " 'town': 'Rampur'}"
      ]
     },
     "execution_count": 44,
     "metadata": {},
     "output_type": "execute_result"
    }
   ],
   "source": [
    "#update mathod:\n",
    "user={'name':'Ritesh','age':36,'movie':'DDLJ','song':'DHKMN'}\n",
    "name={'school':'LLPUVM','town':'Rampur'}\n",
    "user.update(name)\n",
    "user\n",
    "\n"
   ]
  },
  {
   "cell_type": "code",
   "execution_count": 1,
   "metadata": {},
   "outputs": [
    {
     "name": "stdout",
     "output_type": "stream",
     "text": [
      "None\n"
     ]
    }
   ],
   "source": [
    "#clear method\n",
    "user={'name':'Ritesh','age':36,'movie':'DDLJ','song':'DHKMN'}\n",
    "\n",
    "print(user.clear())\n",
    "\n",
    "\n"
   ]
  },
  {
   "cell_type": "code",
   "execution_count": 2,
   "metadata": {},
   "outputs": [
    {
     "name": "stdout",
     "output_type": "stream",
     "text": [
      "{'name': 'Ritesh', 'age': 36, 'movie': 'DDLJ', 'song': 'DHKMN'}\n"
     ]
    }
   ],
   "source": [
    "#copy method\n",
    "user={'name':'Ritesh','age':36,'movie':'DDLJ','song':'DHKMN'}\n",
    "d1=user.copy()\n",
    "print(d1)"
   ]
  },
  {
   "cell_type": "code",
   "execution_count": 6,
   "metadata": {},
   "outputs": [
    {
     "name": "stdout",
     "output_type": "stream",
     "text": [
      "enter your nameRitesh\n",
      "enter your age36\n",
      "what is fav movieDDLJ\n",
      "{'name': 'Ritesh', 'age': '36', 'movie': 'DDLJ'}\n"
     ]
    }
   ],
   "source": [
    "#How to make dictionary\n",
    "user={}\n",
    "name=input('enter your name')\n",
    "age=input('enter your age')\n",
    "movie=input('what is fav movie')\n",
    "user['name']=name\n",
    "user['age']=age\n",
    "user['movie']=movie\n",
    "print(user)\n",
    "\n"
   ]
  },
  {
   "cell_type": "code",
   "execution_count": 62,
   "metadata": {},
   "outputs": [
    {
     "name": "stdout",
     "output_type": "stream",
     "text": [
      "name:Ritesh\n",
      "age:36\n",
      "movie:DDLJ\n"
     ]
    }
   ],
   "source": [
    "for key,value in user.items():\n",
    "    print(f'{key}:{value}')"
   ]
  },
  {
   "cell_type": "markdown",
   "metadata": {},
   "source": [
    "### Dictionary comprehention"
   ]
  },
  {
   "cell_type": "code",
   "execution_count": 63,
   "metadata": {},
   "outputs": [
    {
     "data": {
      "text/plain": [
       "{1: 1, 2: 4, 3: 9, 4: 16, 5: 25, 6: 36, 7: 49, 8: 64, 9: 81, 10: 100}"
      ]
     },
     "execution_count": 63,
     "metadata": {},
     "output_type": "execute_result"
    }
   ],
   "source": [
    "s={num:num**2 for num in range (1,11)}\n",
    "s"
   ]
  },
  {
   "cell_type": "code",
   "execution_count": 67,
   "metadata": {},
   "outputs": [
    {
     "data": {
      "text/plain": [
       "{'square of 1 is ': 1,\n",
       " 'square of 2 is ': 4,\n",
       " 'square of 3 is ': 9,\n",
       " 'square of 4 is ': 16,\n",
       " 'square of 5 is ': 25,\n",
       " 'square of 6 is ': 36,\n",
       " 'square of 7 is ': 49,\n",
       " 'square of 8 is ': 64,\n",
       " 'square of 9 is ': 81,\n",
       " 'square of 10 is ': 100}"
      ]
     },
     "execution_count": 67,
     "metadata": {},
     "output_type": "execute_result"
    }
   ],
   "source": [
    "f={f'square of {num} is ':num**2 for num in range (1,11)}\n",
    "f"
   ]
  },
  {
   "cell_type": "code",
   "execution_count": 70,
   "metadata": {},
   "outputs": [
    {
     "data": {
      "text/plain": [
       "{'R': 1, 'i': 1, 't': 1, 'e': 1, 's': 1, 'h': 2}"
      ]
     },
     "execution_count": 70,
     "metadata": {},
     "output_type": "execute_result"
    }
   ],
   "source": [
    "string='Riteshh'\n",
    "word={char:string.count(char) for char in string}\n",
    "word"
   ]
  },
  {
   "cell_type": "code",
   "execution_count": null,
   "metadata": {},
   "outputs": [],
   "source": []
  },
  {
   "cell_type": "code",
   "execution_count": null,
   "metadata": {},
   "outputs": [],
   "source": []
  },
  {
   "cell_type": "code",
   "execution_count": null,
   "metadata": {},
   "outputs": [],
   "source": []
  },
  {
   "cell_type": "code",
   "execution_count": 7,
   "metadata": {},
   "outputs": [
    {
     "name": "stdout",
     "output_type": "stream",
     "text": [
      "name:Ritesh\n",
      "age:36\n",
      "movie:DDLJ\n"
     ]
    }
   ],
   "source": []
  },
  {
   "cell_type": "markdown",
   "metadata": {},
   "source": [
    "# set"
   ]
  },
  {
   "cell_type": "code",
   "execution_count": 12,
   "metadata": {},
   "outputs": [
    {
     "name": "stdout",
     "output_type": "stream",
     "text": [
      "{1, 2, 3, 4, 5, 6, 7, 8, 9, 10} <class 'set'>\n"
     ]
    }
   ],
   "source": [
    "#its not repeat same items.\n",
    "number={1,2,2,3,4,5,5,6,7,7,7,7,8,9,10}\n",
    "print(number,type(number))\n",
    "\n"
   ]
  },
  {
   "cell_type": "code",
   "execution_count": 10,
   "metadata": {},
   "outputs": [
    {
     "name": "stdout",
     "output_type": "stream",
     "text": [
      "[1, 2, 3, 4, 5, 6, 7, 8, 9, 10]\n"
     ]
    }
   ],
   "source": [
    "#set to list \n",
    "S2=list(number)\n",
    "print(S2)"
   ]
  },
  {
   "cell_type": "code",
   "execution_count": 13,
   "metadata": {},
   "outputs": [
    {
     "data": {
      "text/plain": [
       "{1, 2, 3, 4, 5, 6}"
      ]
     },
     "execution_count": 13,
     "metadata": {},
     "output_type": "execute_result"
    }
   ],
   "source": [
    "#add method in set\n",
    "s={1,2,3,4,5}\n",
    "s.add(6)\n",
    "s"
   ]
  },
  {
   "cell_type": "code",
   "execution_count": 15,
   "metadata": {},
   "outputs": [
    {
     "data": {
      "text/plain": [
       "{1, 2, 3}"
      ]
     },
     "execution_count": 15,
     "metadata": {},
     "output_type": "execute_result"
    }
   ],
   "source": [
    "#Remove method in set \n",
    "r={1,2,3,4}\n",
    "r.remove(4)\n",
    "r"
   ]
  },
  {
   "cell_type": "code",
   "execution_count": 16,
   "metadata": {},
   "outputs": [
    {
     "data": {
      "text/plain": [
       "set()"
      ]
     },
     "execution_count": 16,
     "metadata": {},
     "output_type": "execute_result"
    }
   ],
   "source": [
    "# clear method in set\n",
    "S={1,2,3,4,5}\n",
    "s.clear()\n",
    "s"
   ]
  },
  {
   "cell_type": "code",
   "execution_count": null,
   "metadata": {},
   "outputs": [],
   "source": [
    "# copy method in set\n",
    "\n",
    "w=S.copy()\n",
    "w"
   ]
  },
  {
   "cell_type": "code",
   "execution_count": 25,
   "metadata": {},
   "outputs": [
    {
     "name": "stdout",
     "output_type": "stream",
     "text": [
      "[-1, -2, -3, -4, -5, -6, -7, -8, -9, -10, -11]\n"
     ]
    }
   ],
   "source": [
    "# simple way for nagative number 1 to 11\n",
    "nagative=[]\n",
    "for i in range (0,12)"
   ]
  },
  {
   "cell_type": "code",
   "execution_count": 26,
   "metadata": {},
   "outputs": [
    {
     "name": "stdout",
     "output_type": "stream",
     "text": [
      "[-1, -2, -3, -4, -5, -6, -7, -8, -9, -10]\n"
     ]
    }
   ],
   "source": [
    "#list comprehension\n",
    "nag=[-i for i in range(1,11)]\n",
    "print(nag)"
   ]
  },
  {
   "cell_type": "code",
   "execution_count": 29,
   "metadata": {},
   "outputs": [
    {
     "name": "stdout",
     "output_type": "stream",
     "text": [
      "['R', 'm', 's']\n"
     ]
    }
   ],
   "source": [
    "name=['Ritesh','mupesh','sakesh']\n",
    "f=[]\n",
    "for i in name:\n",
    "    f.append(i[0])\n",
    "print(f)\n"
   ]
  },
  {
   "cell_type": "code",
   "execution_count": 30,
   "metadata": {},
   "outputs": [
    {
     "data": {
      "text/plain": [
       "['R', 'm', 's']"
      ]
     },
     "execution_count": 30,
     "metadata": {},
     "output_type": "execute_result"
    }
   ],
   "source": [
    "m=[i[0] for i in name ]\n",
    "m"
   ]
  },
  {
   "cell_type": "code",
   "execution_count": null,
   "metadata": {},
   "outputs": [],
   "source": [
    "# list comprehension with if statment "
   ]
  },
  {
   "cell_type": "code",
   "execution_count": 32,
   "metadata": {},
   "outputs": [
    {
     "name": "stdout",
     "output_type": "stream",
     "text": [
      "[2, 4, 6, 8, 10]\n"
     ]
    }
   ],
   "source": [
    "even=[]\n",
    "num=[1,2,3,4,5,6,7,8,9,10]\n",
    "for i in num:\n",
    "    if i%2==0:\n",
    "        even.append(i)\n",
    "print(even)        \n",
    "       "
   ]
  },
  {
   "cell_type": "code",
   "execution_count": 45,
   "metadata": {},
   "outputs": [
    {
     "name": "stdout",
     "output_type": "stream",
     "text": [
      "[-1, 4, -3, 16, -5, 36, -7, 64, -9, 100]\n"
     ]
    }
   ],
   "source": [
    "num=[1,2,3,4,5,6,7,8,9,10]\n",
    "evnag=[]\n",
    "for i in num:\n",
    "    if i%2==0:\n",
    "        evnag.append(i**2)\n",
    "    else :\n",
    "        evnag.append(-i)\n",
    "print(evnag)       "
   ]
  },
  {
   "cell_type": "code",
   "execution_count": 47,
   "metadata": {},
   "outputs": [
    {
     "name": "stdout",
     "output_type": "stream",
     "text": [
      "[-1, 4, -3, 16, -5, 36, -7, 64, -9, 100]\n"
     ]
    }
   ],
   "source": [
    "#same program in list comprehention\n",
    "we=[i**2 if i%2==0 else -i for i in num]\n",
    "print()"
   ]
  },
  {
   "cell_type": "markdown",
   "metadata": {},
   "source": [
    "# union and intersection"
   ]
  },
  {
   "cell_type": "code",
   "execution_count": 19,
   "metadata": {},
   "outputs": [
    {
     "data": {
      "text/plain": [
       "{1, 2, 3, 4, 5, 6, 7, 8, 9, 10}"
      ]
     },
     "execution_count": 19,
     "metadata": {},
     "output_type": "execute_result"
    }
   ],
   "source": [
    "#for union we use | pipe\n",
    "s1={1,2,3,4,5,6,7}\n",
    "s2={1,2,3,4,5,6,7,8,9,10}\n",
    "q=s1|s2\n",
    "q"
   ]
  },
  {
   "cell_type": "code",
   "execution_count": 20,
   "metadata": {},
   "outputs": [
    {
     "data": {
      "text/plain": [
       "{1, 2, 3, 4, 5, 6, 7}"
      ]
     },
     "execution_count": 20,
     "metadata": {},
     "output_type": "execute_result"
    }
   ],
   "source": [
    "# for intersection we use &\n",
    "s1={1,2,3,4,5,6,7}\n",
    "s2={1,2,3,4,5,6,7,8,9,10}\n",
    "w=s1&s2\n",
    "w\n"
   ]
  },
  {
   "cell_type": "code",
   "execution_count": 75,
   "metadata": {},
   "outputs": [
    {
     "name": "stdout",
     "output_type": "stream",
     "text": [
      "615\n"
     ]
    }
   ],
   "source": [
    "abc=123\n",
    "print(123*5)"
   ]
  },
  {
   "cell_type": "code",
   "execution_count": 76,
   "metadata": {},
   "outputs": [
    {
     "name": "stdout",
     "output_type": "stream",
     "text": [
      "40\n"
     ]
    }
   ],
   "source": [
    "print(int(40.4))"
   ]
  },
  {
   "cell_type": "code",
   "execution_count": 77,
   "metadata": {},
   "outputs": [
    {
     "name": "stdout",
     "output_type": "stream",
     "text": [
      "40.0\n"
     ]
    }
   ],
   "source": [
    "print(float(40))"
   ]
  },
  {
   "cell_type": "code",
   "execution_count": 83,
   "metadata": {},
   "outputs": [
    {
     "name": "stdout",
     "output_type": "stream",
     "text": [
      "\u0004\n"
     ]
    }
   ],
   "source": [
    "print(chr(4))"
   ]
  },
  {
   "cell_type": "code",
   "execution_count": 84,
   "metadata": {},
   "outputs": [
    {
     "ename": "TypeError",
     "evalue": "integer argument expected, got float",
     "output_type": "error",
     "traceback": [
      "\u001b[1;31m---------------------------------------------------------------------------\u001b[0m",
      "\u001b[1;31mTypeError\u001b[0m                                 Traceback (most recent call last)",
      "\u001b[1;32m<ipython-input-84-935225eb3292>\u001b[0m in \u001b[0;36m<module>\u001b[1;34m\u001b[0m\n\u001b[1;32m----> 1\u001b[1;33m \u001b[0mprint\u001b[0m\u001b[1;33m(\u001b[0m\u001b[0mchr\u001b[0m\u001b[1;33m(\u001b[0m\u001b[1;36m40.4\u001b[0m\u001b[1;33m)\u001b[0m\u001b[1;33m)\u001b[0m\u001b[1;33m\u001b[0m\u001b[1;33m\u001b[0m\u001b[0m\n\u001b[0m",
      "\u001b[1;31mTypeError\u001b[0m: integer argument expected, got float"
     ]
    }
   ],
   "source": [
    "print(chr(40.4))"
   ]
  },
  {
   "cell_type": "code",
   "execution_count": 129,
   "metadata": {},
   "outputs": [
    {
     "name": "stdout",
     "output_type": "stream",
     "text": [
      "0\n",
      "1\n",
      "2\n",
      "3\n",
      "4\n",
      "5\n",
      "6\n",
      "7\n",
      "8\n",
      "9\n",
      "10\n"
     ]
    }
   ],
   "source": [
    "x=range(0,11)\n",
    "for i in x:\n",
    "        print(i)\n"
   ]
  },
  {
   "cell_type": "code",
   "execution_count": 108,
   "metadata": {},
   "outputs": [
    {
     "data": {
      "text/plain": [
       "['ritesh']"
      ]
     },
     "execution_count": 108,
     "metadata": {},
     "output_type": "execute_result"
    }
   ],
   "source": [
    "a=[]\n",
    "a.append('ritesh')\n",
    "a"
   ]
  },
  {
   "cell_type": "code",
   "execution_count": 110,
   "metadata": {},
   "outputs": [
    {
     "name": "stdout",
     "output_type": "stream",
     "text": [
      "6\n"
     ]
    }
   ],
   "source": [
    "a=[1,2,3,4,5,8]\n",
    "s=len(a)\n",
    "print(s)\n"
   ]
  },
  {
   "cell_type": "code",
   "execution_count": 121,
   "metadata": {},
   "outputs": [
    {
     "name": "stdout",
     "output_type": "stream",
     "text": [
      "True\n",
      "True\n",
      "False\n",
      "True\n",
      "False\n"
     ]
    }
   ],
   "source": [
    "print(bool(123))\n",
    "print(bool(13.3))\n",
    "print(bool(0))\n",
    "print(bool('char'))\n",
    "print(bool())"
   ]
  },
  {
   "cell_type": "markdown",
   "metadata": {},
   "source": [
    "### if elif eise"
   ]
  },
  {
   "cell_type": "code",
   "execution_count": 154,
   "metadata": {},
   "outputs": [
    {
     "name": "stdout",
     "output_type": "stream",
     "text": [
      "faiild\n"
     ]
    }
   ],
   "source": [
    "#if statment \n",
    "mark=90\n",
    "if 100<mark<350:\n",
    "    print('you passed')\n",
    "else:\n",
    "    print('faiild')\n",
    "       \n",
    "      \n",
    "    "
   ]
  },
  {
   "cell_type": "code",
   "execution_count": 159,
   "metadata": {},
   "outputs": [
    {
     "name": "stdout",
     "output_type": "stream",
     "text": [
      "rr\n"
     ]
    }
   ],
   "source": [
    "mark1=560\n",
    "if 500<mark1>550:\n",
    "    print('rr')"
   ]
  },
  {
   "cell_type": "code",
   "execution_count": 8,
   "metadata": {},
   "outputs": [
    {
     "name": "stdout",
     "output_type": "stream",
     "text": [
      "Enter your marks:\n",
      "223\n",
      "you got D grade\n",
      "2\n",
      "4\n",
      "7\n"
     ]
    }
   ],
   "source": [
    "#if elif else\n",
    "student_mark=int(input('Enter your marks:\\n'))\n",
    "if 550<student_mark<=600:\n",
    "    print('you got A grade')\n",
    "elif 500<student_mark<=550:\n",
    "    print('you got B grade')\n",
    "elif 450<student_mark<=500:\n",
    "    print('you got C grade')\n",
    "elif 400<student_mark<=450:\n",
    "    print('you got D grade')\n",
    "elif 0<student_mark<=400:\n",
    "    print('you got D grade')  \n",
    "else:\n",
    "    print('Enter the correct marks')\n",
    "student_mark=str(student_mark)\n",
    "total=0\n",
    "i=0\n",
    "while i <len(student_mark):\n",
    "    total+=int(student_mark[i])\n",
    "    i+=1\n",
    "    print(total)    \n",
    "    "
   ]
  },
  {
   "cell_type": "code",
   "execution_count": 20,
   "metadata": {},
   "outputs": [
    {
     "name": "stdout",
     "output_type": "stream",
     "text": [
      "2\n",
      "4\n",
      "7\n"
     ]
    }
   ],
   "source": [
    "student_mark=str(student_mark)\n",
    "total=0\n",
    "i=0\n",
    "while i <len(student_mark):\n",
    "    total+=int(student_mark[i])\n",
    "    i+=1\n",
    "    print(total)"
   ]
  },
  {
   "cell_type": "code",
   "execution_count": 176,
   "metadata": {},
   "outputs": [
    {
     "name": "stdout",
     "output_type": "stream",
     "text": [
      "Number of integers with multiples of 12 :  67\n",
      "Number of integers with multiples of 15 :  40\n",
      "Number of integers with multiples of 20 :  26\n",
      "Number of integers with multiples of 30 :  0\n",
      "Number of remaining :  667\n",
      "800\n"
     ]
    }
   ],
   "source": [
    "# For and if elif along with append functionality\n",
    "limit=range(800)\n",
    "num_divided_12=[]\n",
    "num_divided_15=[]\n",
    "num_divided_20=[]\n",
    "num_divided_30=[]\n",
    "num_remain=[]\n",
    "for num in limit:\n",
    "    if num%12==0:\n",
    "        num_divided_12.append(num)\n",
    "    elif num%15==0:\n",
    "        num_divided_15.append(num)\n",
    "    elif num%20==0:\n",
    "        num_divided_20.append(num)\n",
    "    elif num%30==0:\n",
    "        num_divided_30.append(num)\n",
    "    else:\n",
    "        num_remain.append(num)\n",
    "    \n",
    "print(\"Number of integers with multiples of 12 : \",len(num_divided_12)) \n",
    "print(\"Number of integers with multiples of 15 : \",len(num_divided_15))\n",
    "print(\"Number of integers with multiples of 20 : \",len(num_divided_20))\n",
    "print(\"Number of integers with multiples of 30 : \",len(num_divided_30))\n",
    "print(\"Number of remaining : \",len(num_remain))\n",
    "        \n",
    "print(len(num_divided_12)+len(num_divided_15)+len(num_divided_20)+len(num_divided_30)+len(num_remain))        \n",
    "    \n",
    "    \n",
    "         \n",
    "    "
   ]
  },
  {
   "cell_type": "code",
   "execution_count": 178,
   "metadata": {},
   "outputs": [
    {
     "name": "stdout",
     "output_type": "stream",
     "text": [
      "[0, 37, 74, 111, 148, 185, 222, 259, 296, 333, 370, 407, 444, 481, 518, 555, 592, 629, 666, 703, 740, 777, 814, 851, 888, 925, 962, 999]\n",
      "length 28\n"
     ]
    }
   ],
   "source": [
    "number_div_by_39 = [num for num in range(1000) if num%37==0]\n",
    "print(number_div_by_39)\n",
    "print(\"length\",len(number_div_by_39))"
   ]
  },
  {
   "cell_type": "code",
   "execution_count": 21,
   "metadata": {},
   "outputs": [
    {
     "name": "stdout",
     "output_type": "stream",
     "text": [
      "['num22', 'not required', 'not required', 'not required', 'not required', 'not required', 'not required', 'not required', 'not required', 'not required', 'not required', 'not required', 'not required', 'not required', 'not required', 'not required', 'not required', 'not required', 'not required', 'not required', 'not required', 'not required', 'not required', 'not required', 'not required', 'not required', 'not required', 'not required', 'not required', 'not required', 'not required', 'not required', 'not required', 'not required', 'not required', 'not required', 'not required', 'not required', 'not required', 'not required', 'not required', 'not required', 'not required', 'not required', 'not required', 'not required', 'not required', 'not required', 'not required', 'not required', 'not required', 'not required', 'not required', 'not required', 'not required', 'not required', 'not required', 'not required', 'not required', 'not required', 'not required', 'not required', 'not required', 'not required', 'not required', 'not required', 'not required', 'not required', 'not required', 'not required', 'not required', 'not required', 'not required', 'not required', 'not required', 'not required', 'not required', 'not required', 'not required', 'not required', 'not required', 'not required', 'not required', 'not required', 'not required', 'not required', 'not required', 'not required', 'not required', 'not required', 'not required', 'not required', 'not required', 'not required', 'not required', 'not required', 'not required', 'not required', 'not required', 'not required', 'not required', 'not required', 'not required', 'not required', 'not required', 'not required', 'not required', 'not required', 'not required', 'not required', 'not required', 'not required', 'not required', 'not required', 'not required', 'not required', 'not required', 'not required', 'not required', 'not required', 'not required', 'not required', 'num22', 'not required', 'not required', 'not required', 'not required', 'not required', 'not required', 'not required', 'not required', 'not required', 'not required', 'not required', 'not required', 'not required', 'not required', 'not required', 'not required', 'not required', 'not required', 'not required', 'not required', 'not required', 'not required', 'not required', 'not required', 'not required', 'not required', 'not required', 'not required', 'not required', 'not required', 'not required', 'not required', 'not required', 'not required', 'not required', 'not required', 'not required', 'not required', 'not required', 'not required', 'not required', 'not required', 'not required', 'not required', 'not required', 'not required', 'not required', 'not required', 'not required', 'not required', 'not required', 'not required', 'not required', 'not required', 'not required', 'not required', 'not required', 'not required', 'not required', 'not required', 'not required', 'not required', 'not required', 'not required', 'not required', 'not required', 'not required', 'not required', 'not required', 'not required', 'not required', 'not required', 'not required', 'not required', 'not required', 'not required', 'not required', 'not required', 'not required', 'not required', 'not required', 'not required', 'not required', 'not required', 'not required', 'not required', 'not required', 'not required', 'not required', 'not required', 'not required', 'not required', 'not required', 'not required', 'not required', 'not required', 'not required', 'not required', 'not required', 'not required', 'not required', 'not required', 'not required', 'not required', 'not required', 'not required', 'not required', 'not required', 'not required', 'not required', 'not required', 'not required', 'not required', 'not required', 'not required', 'not required', 'not required', 'not required', 'not required', 'not required', 'not required', 'num22', 'not required', 'not required', 'not required', 'not required', 'not required', 'not required', 'not required', 'not required', 'not required', 'not required', 'not required', 'not required', 'not required', 'not required', 'not required', 'not required', 'not required', 'not required', 'not required', 'not required', 'not required', 'not required', 'not required', 'not required', 'not required', 'not required', 'not required', 'not required', 'not required', 'not required', 'not required', 'not required', 'not required', 'not required', 'not required', 'not required', 'not required', 'not required', 'not required', 'not required', 'not required', 'not required', 'not required', 'not required', 'not required', 'not required', 'not required', 'not required', 'not required', 'not required', 'not required', 'not required', 'not required', 'not required', 'not required', 'not required', 'not required', 'not required', 'not required', 'not required', 'not required', 'not required', 'not required', 'not required', 'not required', 'not required', 'not required', 'not required', 'not required', 'not required', 'not required', 'not required', 'not required', 'not required', 'not required', 'not required', 'not required', 'not required', 'not required', 'not required', 'not required', 'not required', 'not required', 'not required', 'not required', 'not required', 'not required', 'not required', 'not required', 'not required', 'not required', 'not required', 'not required', 'not required', 'not required', 'not required', 'not required', 'not required', 'not required', 'not required', 'not required', 'not required', 'not required', 'not required', 'not required', 'not required', 'not required', 'not required', 'not required', 'not required', 'not required', 'not required', 'not required', 'not required', 'not required', 'not required', 'not required', 'not required', 'not required', 'not required', 'not required', 'num22', 'not required', 'not required', 'not required', 'not required', 'not required', 'not required', 'not required', 'not required', 'not required', 'not required', 'not required', 'not required', 'not required', 'not required', 'not required', 'not required', 'not required', 'not required', 'not required', 'not required', 'not required', 'not required', 'not required', 'not required', 'not required', 'not required', 'not required', 'not required', 'not required', 'not required', 'not required', 'not required', 'not required', 'not required', 'not required', 'not required', 'not required', 'not required', 'not required', 'not required', 'not required', 'not required', 'not required', 'not required', 'not required', 'not required', 'not required', 'not required', 'not required', 'not required', 'not required', 'not required', 'not required', 'not required', 'not required', 'not required', 'not required', 'not required', 'not required', 'not required', 'not required', 'not required', 'not required', 'not required', 'not required', 'not required', 'not required', 'not required', 'not required', 'not required', 'not required', 'not required', 'not required', 'not required', 'not required', 'not required', 'not required', 'not required', 'not required', 'not required', 'not required', 'not required', 'not required', 'not required', 'not required', 'not required', 'not required', 'not required', 'not required', 'not required', 'not required', 'not required', 'not required', 'not required', 'not required', 'not required', 'not required', 'not required', 'not required', 'not required', 'not required', 'not required', 'not required', 'not required', 'not required', 'not required', 'not required', 'not required', 'not required', 'not required', 'not required', 'not required', 'not required', 'not required', 'not required', 'not required', 'not required', 'not required', 'not required', 'not required', 'not required', 'num22', 'not required', 'not required', 'not required', 'not required', 'not required', 'not required', 'not required', 'not required', 'not required', 'not required', 'not required', 'not required', 'not required', 'not required', 'not required', 'not required', 'not required', 'not required', 'not required', 'not required', 'not required', 'not required', 'not required', 'not required', 'not required', 'not required', 'not required', 'not required', 'not required', 'not required', 'not required', 'not required', 'not required', 'not required', 'not required', 'not required', 'not required', 'not required', 'not required', 'not required', 'not required', 'not required', 'not required', 'not required', 'not required', 'not required', 'not required', 'not required', 'not required', 'not required', 'not required', 'not required', 'not required', 'not required', 'not required', 'not required', 'not required', 'not required', 'not required', 'not required', 'not required', 'not required', 'not required', 'not required', 'not required', 'not required', 'not required', 'not required', 'not required', 'not required', 'not required', 'not required', 'not required', 'not required', 'not required', 'not required', 'not required', 'not required', 'not required', 'not required', 'not required', 'not required', 'not required', 'not required', 'not required', 'not required', 'not required', 'not required', 'not required', 'not required', 'not required', 'not required', 'not required', 'not required', 'not required', 'not required', 'not required', 'not required', 'not required', 'not required', 'not required', 'not required', 'not required', 'not required', 'not required', 'not required', 'not required', 'not required', 'not required', 'not required', 'not required', 'not required', 'not required', 'not required', 'not required', 'not required', 'not required', 'not required', 'not required', 'not required', 'not required', 'num22', 'not required', 'not required', 'not required', 'not required', 'not required', 'not required', 'not required', 'not required', 'not required', 'not required', 'not required', 'not required', 'not required', 'not required', 'not required', 'not required', 'not required', 'not required', 'not required', 'not required', 'not required', 'not required', 'not required', 'not required', 'not required', 'not required', 'not required', 'not required', 'not required', 'not required', 'not required', 'not required', 'not required', 'not required', 'not required', 'not required', 'not required', 'not required', 'not required', 'not required', 'not required', 'not required', 'not required', 'not required', 'not required', 'not required', 'not required', 'not required', 'not required', 'not required', 'not required', 'not required', 'not required', 'not required', 'not required', 'not required', 'not required', 'not required', 'not required', 'not required', 'not required', 'not required', 'not required', 'not required', 'not required', 'not required', 'not required', 'not required', 'not required', 'not required', 'not required', 'not required', 'not required', 'not required', 'not required', 'not required', 'not required', 'not required', 'not required', 'not required', 'not required', 'not required', 'not required', 'not required', 'not required', 'not required', 'not required', 'not required', 'not required', 'not required', 'not required', 'not required', 'not required', 'not required', 'not required', 'not required', 'not required', 'not required', 'not required', 'not required', 'not required', 'not required', 'not required', 'not required', 'not required', 'not required', 'not required', 'not required', 'not required', 'not required', 'not required', 'not required', 'not required', 'not required', 'not required', 'not required', 'not required', 'not required', 'not required', 'not required', 'not required', 'num22', 'not required', 'not required', 'not required', 'not required', 'not required', 'not required', 'not required', 'not required', 'not required', 'not required', 'not required', 'not required', 'not required', 'not required', 'not required', 'not required', 'not required', 'not required', 'not required', 'not required', 'not required', 'not required', 'not required', 'not required', 'not required', 'not required', 'not required', 'not required', 'not required', 'not required', 'not required', 'not required', 'not required', 'not required', 'not required', 'not required', 'not required', 'not required', 'not required', 'not required', 'not required', 'not required', 'not required', 'not required', 'not required', 'not required', 'not required', 'not required', 'not required', 'not required', 'not required', 'not required', 'not required', 'not required', 'not required', 'not required', 'not required', 'not required', 'not required', 'not required', 'not required', 'not required', 'not required', 'not required', 'not required', 'not required', 'not required', 'not required', 'not required', 'not required', 'not required', 'not required', 'not required', 'not required', 'not required', 'not required', 'not required', 'not required', 'not required', 'not required', 'not required', 'not required', 'not required', 'not required', 'not required', 'not required', 'not required', 'not required', 'not required', 'not required', 'not required', 'not required', 'not required', 'not required', 'not required', 'not required', 'not required', 'not required', 'not required', 'not required', 'not required', 'not required', 'not required', 'not required', 'not required', 'not required', 'not required', 'not required', 'not required', 'not required', 'not required', 'not required', 'not required', 'not required', 'not required', 'not required', 'not required', 'not required', 'not required', 'not required', 'not required', 'num22', 'not required', 'not required', 'not required', 'not required', 'not required', 'not required', 'not required', 'not required', 'not required', 'not required', 'not required', 'not required', 'not required', 'not required', 'not required', 'not required', 'not required', 'not required', 'not required', 'not required', 'not required', 'not required', 'not required', 'not required', 'not required', 'not required', 'not required', 'not required', 'not required', 'not required', 'not required', 'not required', 'not required', 'not required', 'not required', 'not required', 'not required', 'not required', 'not required', 'not required', 'not required', 'not required', 'not required', 'not required', 'not required', 'not required', 'not required', 'not required', 'not required', 'not required', 'not required', 'not required', 'not required', 'not required', 'not required', 'not required', 'not required', 'not required', 'not required', 'not required', 'not required', 'not required', 'not required', 'not required', 'not required', 'not required', 'not required', 'not required', 'not required', 'not required', 'not required', 'not required', 'not required', 'not required', 'not required', 'not required', 'not required', 'not required', 'not required', 'not required', 'not required', 'not required', 'not required', 'not required', 'not required', 'not required', 'not required', 'not required', 'not required', 'not required', 'not required', 'not required', 'not required', 'not required', 'not required', 'not required', 'not required', 'not required', 'not required', 'not required', 'not required', 'not required', 'not required', 'not required', 'not required', 'not required', 'not required', 'not required', 'not required', 'not required', 'not required', 'not required', 'not required', 'not required', 'not required', 'not required', 'not required', 'not required', 'not required', 'not required', 'not required', 'num22', 'not required', 'not required', 'not required', 'not required', 'not required', 'not required', 'not required', 'not required', 'not required', 'not required', 'not required', 'not required', 'not required', 'not required', 'not required', 'not required', 'not required', 'not required', 'not required', 'not required', 'not required', 'not required', 'not required']\n"
     ]
    }
   ],
   "source": [
    "num2=['num22'if i%122==0 else 'not required'for i in  range (1000)]\n",
    "print(num2)\n"
   ]
  },
  {
   "cell_type": "code",
   "execution_count": 186,
   "metadata": {},
   "outputs": [
    {
     "name": "stdout",
     "output_type": "stream",
     "text": [
      "9\n"
     ]
    }
   ],
   "source": [
    "num2_only=[]\n",
    "for i in num2:\n",
    "    if i=='num22':\n",
    "        num2_only.append(i)\n",
    "print(len(num2_only))"
   ]
  },
  {
   "cell_type": "raw",
   "metadata": {},
   "source": [
    "making show ticket pricing python\n",
    "1 to 3 age(free)\n",
    "4 to 10 age (100)\n",
    "11 to 60 age (150)\n",
    "60 above(200)\n"
   ]
  },
  {
   "cell_type": "code",
   "execution_count": 192,
   "metadata": {},
   "outputs": [
    {
     "name": "stdout",
     "output_type": "stream",
     "text": [
      "Please enter your age for ticket rate:\n",
      "61\n",
      "your ticket cost is 200\n"
     ]
    }
   ],
   "source": [
    "user=int(input('Please enter your age for ticket rate:\\n'))\n",
    "if 1<user<=3:\n",
    "    print(' woww your ticket cost is free')\n",
    "elif 3<user<=10:\n",
    "    print(' your ticket cost is 100rs') \n",
    "elif 10<user<=60:\n",
    "    print('your ticket cost is 150')\n",
    "else:\n",
    "    print('your ticket cost is 200')    \n",
    "    "
   ]
  },
  {
   "cell_type": "raw",
   "metadata": {},
   "source": [
    "Ask user name and age,if user name start from a or A and age is above 10 than print 'you can watch DDLJ movie'.else print'sorry 'you can't watch DDLJ movie'"
   ]
  },
  {
   "cell_type": "code",
   "execution_count": 198,
   "metadata": {},
   "outputs": [
    {
     "name": "stdout",
     "output_type": "stream",
     "text": [
      "please enter your NameAmit\n",
      "please enter your age9\n",
      "you can't watch DDLJ movie\n"
     ]
    }
   ],
   "source": [
    "name=input('please enter your Name')\n",
    "age=input('please enter your age')\n",
    "age=int(age)\n",
    "if  age>10 and (name[0]=='a' or name[0]=='A'):\n",
    "    print('you can watch DDLJ movie')\n",
    "else:\n",
    "    print('you can\\'t watch DDLJ movie')\n"
   ]
  },
  {
   "cell_type": "code",
   "execution_count": 199,
   "metadata": {},
   "outputs": [
    {
     "name": "stdout",
     "output_type": "stream",
     "text": [
      "i is present in your name\n"
     ]
    }
   ],
   "source": [
    "# in keyword\n",
    "name='Ritesh'\n",
    "if 'i'in name:\n",
    "    print('i is present in your name')\n",
    "else:\n",
    "    print('not present')\n"
   ]
  },
  {
   "cell_type": "code",
   "execution_count": 203,
   "metadata": {},
   "outputs": [
    {
     "name": "stdout",
     "output_type": "stream",
     "text": [
      "please enter your name\n",
      "you did not enter your name\n"
     ]
    }
   ],
   "source": [
    "# check input empty or not\n",
    "a=input('please enter your name')\n",
    "if a:\n",
    "    print(f'your name is {a}')\n",
    "else:\n",
    "    print('you did not enter your name')"
   ]
  },
  {
   "cell_type": "code",
   "execution_count": 22,
   "metadata": {},
   "outputs": [
    {
     "name": "stdout",
     "output_type": "stream",
     "text": [
      "0\n",
      "1\n",
      "2\n",
      "3\n",
      "4\n",
      "5\n",
      "6\n",
      "7\n",
      "8\n",
      "9\n",
      "10\n"
     ]
    }
   ],
   "source": [
    "for i in range(11):\n",
    "    print(i)"
   ]
  },
  {
   "cell_type": "code",
   "execution_count": 15,
   "metadata": {},
   "outputs": [
    {
     "name": "stdout",
     "output_type": "stream",
     "text": [
      "enter some number that you want  to calculate33\n",
      "3\n",
      "6\n"
     ]
    }
   ],
   "source": [
    "num=input('enter some number that you want  to calculate')\n",
    "total=0\n",
    "i=0\n",
    "while i< len(num):\n",
    "    total+=int(num[i])\n",
    "    i+=1\n",
    "    print(total)\n",
    "    "
   ]
  },
  {
   "cell_type": "code",
   "execution_count": 19,
   "metadata": {},
   "outputs": [
    {
     "name": "stdout",
     "output_type": "stream",
     "text": [
      "enter some number that you want  to calculate12\n",
      "1\n",
      "3\n"
     ]
    }
   ],
   "source": [
    "# same program in for loop\n",
    "n=input('enter some number that you want  to calculate')\n",
    "n=str(n)\n",
    "total=0\n",
    "for i in range(0,len(n)):\n",
    "    total+=int(n[i])\n",
    "    print(total)\n",
    "    "
   ]
  },
  {
   "cell_type": "code",
   "execution_count": null,
   "metadata": {},
   "outputs": [],
   "source": []
  },
  {
   "cell_type": "code",
   "execution_count": null,
   "metadata": {},
   "outputs": [],
   "source": []
  },
  {
   "cell_type": "code",
   "execution_count": null,
   "metadata": {},
   "outputs": [],
   "source": []
  },
  {
   "cell_type": "code",
   "execution_count": null,
   "metadata": {},
   "outputs": [],
   "source": []
  },
  {
   "cell_type": "code",
   "execution_count": null,
   "metadata": {},
   "outputs": [],
   "source": []
  },
  {
   "cell_type": "code",
   "execution_count": null,
   "metadata": {},
   "outputs": [],
   "source": []
  },
  {
   "cell_type": "code",
   "execution_count": null,
   "metadata": {},
   "outputs": [],
   "source": []
  }
 ],
 "metadata": {
  "kernelspec": {
   "display_name": "Python 3",
   "language": "python",
   "name": "python3"
  },
  "language_info": {
   "codemirror_mode": {
    "name": "ipython",
    "version": 3
   },
   "file_extension": ".py",
   "mimetype": "text/x-python",
   "name": "python",
   "nbconvert_exporter": "python",
   "pygments_lexer": "ipython3",
   "version": "3.7.3"
  }
 },
 "nbformat": 4,
 "nbformat_minor": 2
}
